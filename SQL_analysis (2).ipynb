{
  "cells": [
    {
      "cell_type": "markdown",
      "metadata": {
        "deletable": false,
        "editable": false,
        "nbgrader": {
          "cell_type": "markdown",
          "checksum": "bf67c55f41d29e9dbba7d2c29e4b00d1",
          "grade": false,
          "grade_id": "cell-91c8811a972c66c4",
          "locked": true,
          "schema_version": 3,
          "solution": false,
          "task": false
        },
        "id": "Xaj4pYbFpik4"
      },
      "source": [
        "# Finding our best-performing salespeople and products\n",
        "\n"
      ]
    },
    {
      "cell_type": "markdown",
      "metadata": {
        "deletable": false,
        "editable": false,
        "nbgrader": {
          "cell_type": "markdown",
          "checksum": "18da17721b45f3b69354b0e5900fb770",
          "grade": false,
          "grade_id": "cell-cba9ff636a6f2ba8",
          "locked": true,
          "schema_version": 3,
          "solution": false,
          "task": false
        },
        "tags": [
          "6_min"
        ],
        "id": "LWY7E7WXpilA"
      },
      "source": [
        "## Overview of the data\n",
        "\n",
        "The data for this case is contained in the [`AdventureWorks.db`](AdventureWorks.db) SQLite database. We will be focusing on the tables that belong to the Sales and Product categories. Complete documentation, with schemas, for the original data (of which you have only a subset) can be found [here](https://dataedo.com/download/AdventureWorks.pdf).\n",
        "\n",
        "**Product Tables (Pg. 34 in documentation):**\n",
        "* **Product**: one row per product that the company sells\n",
        "* **ProductReview**: one row per rating and review left by customers\n",
        "* **ProductModelProductDescriptionCulture**: a link between products and their longer descriptions also indicating a \"culture\" - which language and region the product is for\n",
        "* **ProductDescription**: a longer description of each product, for a specific region\n",
        "* **ProductCategory**: the broad categories that products fit into\n",
        "* **ProductSubCategory**: the narrower subcategories that products fit into\n",
        "\n",
        "**Sales Tables (Pg. 71 in documentation):**\n",
        "* **SalesPerson**: one row per salesperson, including information on their commission and performance\n",
        "* **SalesOrderHeader**: one row per sale summarizing the sale\n",
        "* **SalesOrderDetail**: many rows per sale, detailing each product that forms part of the sale\n",
        "* **SalesTerritory**: the different territories where products are sold, including performance\n",
        "* **CountryRegionCurrency**: the currency used by each region\n",
        "* **CurrencyRate**: the average and closing exchange rates for each currency compared to the USD\n",
        "\n",
        "**Tip**: Review the documentation carefully to learn more about the tables (like relevant columns in each) and the relationships between them. Note that not all columns may be available in the subset provided in this case as they are not necessary for the following exercises. "
      ]
    },
    {
      "cell_type": "markdown",
      "metadata": {
        "deletable": false,
        "editable": false,
        "nbgrader": {
          "cell_type": "markdown",
          "checksum": "0fabce297752f580b3c9bd48b1923794",
          "grade": false,
          "grade_id": "cell-f3b077034afbeb10",
          "locked": true,
          "schema_version": 3,
          "solution": false,
          "task": false
        },
        "id": "XeNUxwIVpilB"
      },
      "source": [
        "Importing the libraries and the `sql` extension:"
      ]
    },
    {
      "cell_type": "code",
      "execution_count": null,
      "metadata": {
        "deletable": false,
        "editable": false,
        "nbgrader": {
          "cell_type": "code",
          "checksum": "b97215a89e169a058c5619cd92f877fe",
          "grade": false,
          "grade_id": "cell-adb721d632188af7",
          "locked": true,
          "schema_version": 3,
          "solution": false,
          "task": false
        },
        "id": "qn_ob-MmpilC",
        "outputId": "88ace5a5-7ca2-4782-d3d6-e63f3de54875"
      },
      "outputs": [
        {
          "name": "stdout",
          "output_type": "stream",
          "text": [
            "The sql extension is already loaded. To reload it, use:\n",
            "  %reload_ext sql\n"
          ]
        }
      ],
      "source": [
        "%load_ext sql\n",
        "import pandas as pd"
      ]
    },
    {
      "cell_type": "markdown",
      "metadata": {
        "deletable": false,
        "editable": false,
        "nbgrader": {
          "cell_type": "markdown",
          "checksum": "5c3438560891dbdda9a267febf8f5db1",
          "grade": false,
          "grade_id": "cell-de016d23af6a879d",
          "locked": true,
          "schema_version": 3,
          "solution": false,
          "task": false
        },
        "id": "jPPdZrFapilF"
      },
      "source": [
        "Let's now load in the database:"
      ]
    },
    {
      "cell_type": "code",
      "execution_count": null,
      "metadata": {
        "deletable": false,
        "editable": false,
        "nbgrader": {
          "cell_type": "code",
          "checksum": "ac1fa82ad16dab5b85f9af384dfc1d74",
          "grade": false,
          "grade_id": "cell-d9dd892261439505",
          "locked": true,
          "schema_version": 3,
          "solution": false,
          "task": false
        },
        "id": "cUOcVXLFpilG"
      },
      "outputs": [],
      "source": [
        "%sql sqlite:///AdventureWorks.db"
      ]
    },
    {
      "cell_type": "markdown",
      "metadata": {
        "deletable": false,
        "editable": false,
        "nbgrader": {
          "cell_type": "markdown",
          "checksum": "f7587cceeca461fc3977b4462144eee5",
          "grade": false,
          "grade_id": "cell-a0c2bec563c45af2",
          "locked": true,
          "schema_version": 3,
          "solution": false,
          "task": false
        },
        "id": "d3RbJm6WpilG"
      },
      "source": [
        "Remember that in order to run SQL queries from within this notebook, you should write `%%sql` at the start of your code cell, like this:"
      ]
    },
    {
      "cell_type": "code",
      "execution_count": null,
      "metadata": {
        "deletable": false,
        "editable": false,
        "nbgrader": {
          "cell_type": "code",
          "checksum": "3c4c1119441972ae2918f80bfe2fa145",
          "grade": false,
          "grade_id": "cell-1c377e58b7758e21",
          "locked": true,
          "schema_version": 3,
          "solution": false,
          "task": false
        },
        "id": "rljIEvhnpilH",
        "outputId": "8291fae8-f384-4cf6-e7a9-9a601ef1461a"
      },
      "outputs": [
        {
          "name": "stdout",
          "output_type": "stream",
          "text": [
            " * sqlite:///AdventureWorks.db\n",
            "Done.\n"
          ]
        },
        {
          "data": {
            "text/html": [
              "<table>\n",
              "    <tr>\n",
              "        <th>productid</th>\n",
              "        <th>NAME</th>\n",
              "        <th>productnumber</th>\n",
              "        <th>makeflag</th>\n",
              "        <th>finishedgoodsflag</th>\n",
              "        <th>color</th>\n",
              "        <th>safetystocklevel</th>\n",
              "        <th>reorderpoint</th>\n",
              "        <th>standardcost</th>\n",
              "        <th>listprice</th>\n",
              "        <th>size</th>\n",
              "        <th>sizeunitmeasurecode</th>\n",
              "        <th>weightunitmeasurecode</th>\n",
              "        <th>weight</th>\n",
              "        <th>daystomanufacture</th>\n",
              "        <th>productline</th>\n",
              "        <th>class</th>\n",
              "        <th>style</th>\n",
              "        <th>productsubcategoryid</th>\n",
              "        <th>productmodelid</th>\n",
              "        <th>sellstartdate</th>\n",
              "        <th>sellenddate</th>\n",
              "        <th>discontinueddate</th>\n",
              "        <th>rowguid</th>\n",
              "        <th>modifieddate</th>\n",
              "    </tr>\n",
              "    <tr>\n",
              "        <td>1</td>\n",
              "        <td>Adjustable Race</td>\n",
              "        <td>AR-5381</td>\n",
              "        <td>f</td>\n",
              "        <td>f</td>\n",
              "        <td></td>\n",
              "        <td>1000</td>\n",
              "        <td>750</td>\n",
              "        <td>0.0</td>\n",
              "        <td>0.0</td>\n",
              "        <td></td>\n",
              "        <td></td>\n",
              "        <td></td>\n",
              "        <td></td>\n",
              "        <td>0</td>\n",
              "        <td></td>\n",
              "        <td></td>\n",
              "        <td></td>\n",
              "        <td></td>\n",
              "        <td></td>\n",
              "        <td>2008-04-30 00:00:00</td>\n",
              "        <td></td>\n",
              "        <td></td>\n",
              "        <td>694215b7-08f7-4c0d-acb1-d734ba44c0c8</td>\n",
              "        <td>2014-02-08 10:01:36.827</td>\n",
              "    </tr>\n",
              "    <tr>\n",
              "        <td>2</td>\n",
              "        <td>Bearing Ball</td>\n",
              "        <td>BA-8327</td>\n",
              "        <td>f</td>\n",
              "        <td>f</td>\n",
              "        <td></td>\n",
              "        <td>1000</td>\n",
              "        <td>750</td>\n",
              "        <td>0.0</td>\n",
              "        <td>0.0</td>\n",
              "        <td></td>\n",
              "        <td></td>\n",
              "        <td></td>\n",
              "        <td></td>\n",
              "        <td>0</td>\n",
              "        <td></td>\n",
              "        <td></td>\n",
              "        <td></td>\n",
              "        <td></td>\n",
              "        <td></td>\n",
              "        <td>2008-04-30 00:00:00</td>\n",
              "        <td></td>\n",
              "        <td></td>\n",
              "        <td>58ae3c20-4f3a-4749-a7d4-d568806cc537</td>\n",
              "        <td>2014-02-08 10:01:36.827</td>\n",
              "    </tr>\n",
              "    <tr>\n",
              "        <td>3</td>\n",
              "        <td>BB Ball Bearing</td>\n",
              "        <td>BE-2349</td>\n",
              "        <td>t</td>\n",
              "        <td>f</td>\n",
              "        <td></td>\n",
              "        <td>800</td>\n",
              "        <td>600</td>\n",
              "        <td>0.0</td>\n",
              "        <td>0.0</td>\n",
              "        <td></td>\n",
              "        <td></td>\n",
              "        <td></td>\n",
              "        <td></td>\n",
              "        <td>1</td>\n",
              "        <td></td>\n",
              "        <td></td>\n",
              "        <td></td>\n",
              "        <td></td>\n",
              "        <td></td>\n",
              "        <td>2008-04-30 00:00:00</td>\n",
              "        <td></td>\n",
              "        <td></td>\n",
              "        <td>9c21aed2-5bfa-4f18-bcb8-f11638dc2e4e</td>\n",
              "        <td>2014-02-08 10:01:36.827</td>\n",
              "    </tr>\n",
              "    <tr>\n",
              "        <td>4</td>\n",
              "        <td>Headset Ball Bearings</td>\n",
              "        <td>BE-2908</td>\n",
              "        <td>f</td>\n",
              "        <td>f</td>\n",
              "        <td></td>\n",
              "        <td>800</td>\n",
              "        <td>600</td>\n",
              "        <td>0.0</td>\n",
              "        <td>0.0</td>\n",
              "        <td></td>\n",
              "        <td></td>\n",
              "        <td></td>\n",
              "        <td></td>\n",
              "        <td>0</td>\n",
              "        <td></td>\n",
              "        <td></td>\n",
              "        <td></td>\n",
              "        <td></td>\n",
              "        <td></td>\n",
              "        <td>2008-04-30 00:00:00</td>\n",
              "        <td></td>\n",
              "        <td></td>\n",
              "        <td>ecfed6cb-51ff-49b5-b06c-7d8ac834db8b</td>\n",
              "        <td>2014-02-08 10:01:36.827</td>\n",
              "    </tr>\n",
              "    <tr>\n",
              "        <td>316</td>\n",
              "        <td>Blade</td>\n",
              "        <td>BL-2036</td>\n",
              "        <td>t</td>\n",
              "        <td>f</td>\n",
              "        <td></td>\n",
              "        <td>800</td>\n",
              "        <td>600</td>\n",
              "        <td>0.0</td>\n",
              "        <td>0.0</td>\n",
              "        <td></td>\n",
              "        <td></td>\n",
              "        <td></td>\n",
              "        <td></td>\n",
              "        <td>1</td>\n",
              "        <td></td>\n",
              "        <td></td>\n",
              "        <td></td>\n",
              "        <td></td>\n",
              "        <td></td>\n",
              "        <td>2008-04-30 00:00:00</td>\n",
              "        <td></td>\n",
              "        <td></td>\n",
              "        <td>e73e9750-603b-4131-89f5-3dd15ed5ff80</td>\n",
              "        <td>2014-02-08 10:01:36.827</td>\n",
              "    </tr>\n",
              "</table>"
            ],
            "text/plain": [
              "[(1, 'Adjustable Race', 'AR-5381', 'f', 'f', '', 1000, 750, 0.0, 0.0, '', '', '', '', 0, '', '', '', '', '', '2008-04-30 00:00:00', '', '', '694215b7-08f7-4c0d-acb1-d734ba44c0c8', '2014-02-08 10:01:36.827'),\n",
              " (2, 'Bearing Ball', 'BA-8327', 'f', 'f', '', 1000, 750, 0.0, 0.0, '', '', '', '', 0, '', '', '', '', '', '2008-04-30 00:00:00', '', '', '58ae3c20-4f3a-4749-a7d4-d568806cc537', '2014-02-08 10:01:36.827'),\n",
              " (3, 'BB Ball Bearing', 'BE-2349', 't', 'f', '', 800, 600, 0.0, 0.0, '', '', '', '', 1, '', '', '', '', '', '2008-04-30 00:00:00', '', '', '9c21aed2-5bfa-4f18-bcb8-f11638dc2e4e', '2014-02-08 10:01:36.827'),\n",
              " (4, 'Headset Ball Bearings', 'BE-2908', 'f', 'f', '', 800, 600, 0.0, 0.0, '', '', '', '', 0, '', '', '', '', '', '2008-04-30 00:00:00', '', '', 'ecfed6cb-51ff-49b5-b06c-7d8ac834db8b', '2014-02-08 10:01:36.827'),\n",
              " (316, 'Blade', 'BL-2036', 't', 'f', '', 800, 600, 0.0, 0.0, '', '', '', '', 1, '', '', '', '', '', '2008-04-30 00:00:00', '', '', 'e73e9750-603b-4131-89f5-3dd15ed5ff80', '2014-02-08 10:01:36.827')]"
            ]
          },
          "execution_count": 8,
          "metadata": {},
          "output_type": "execute_result"
        }
      ],
      "source": [
        "%%sql\n",
        "SELECT * FROM product LIMIT 5;"
      ]
    },
    {
      "cell_type": "markdown",
      "metadata": {
        "deletable": false,
        "editable": false,
        "nbgrader": {
          "cell_type": "markdown",
          "checksum": "29a7312b55ee514f251b5d82c139b2b8",
          "grade": false,
          "grade_id": "cell-bcc87dd006a49dfa",
          "locked": true,
          "schema_version": 3,
          "solution": false,
          "task": false
        },
        "id": "jsQT53kspilK"
      },
      "source": [
        "## Finding our most popular products\n",
        "\n",
        "The company would like to know which of their products is the most popular among customers. You figure that the average rating given in reviews is correlated with the number of sales of a particular product (that products with higher reviews have more sales)."
      ]
    },
    {
      "cell_type": "markdown",
      "metadata": {
        "deletable": false,
        "editable": false,
        "nbgrader": {
          "cell_type": "markdown",
          "checksum": "8b6b5a8b35f7574ef6cd4e1ca11a5ef1",
          "grade": false,
          "grade_id": "cell-004a91c529741bd6",
          "locked": true,
          "schema_version": 3,
          "solution": false,
          "task": false
        },
        "tags": [
          "10_min"
        ],
        "id": "ewsNzHAspilK"
      },
      "source": [
        "### Exercise 1 (1 point)\n",
        "\n",
        "Using the `product` and `productreview` tables, `INNER JOIN` them and rank the products according to their average review rating. Save the SQL code in a string variable called `rating_ranking`. Please make *absolutely sure* to name your variable exactly that or otherwise your answer will not be recorded.\n",
        "\n",
        "Your output should look like this:\n",
        "\n",
        "| productid \t| NAME \t| avgrating \t| num_ratings \t|\n",
        "|-:\t|-:\t|-:\t|-\t|\n",
        "| 709 \t| Mountain Bike Socks, M \t| 5.0 \t| 1 \t|\n",
        "| ... \t| ... \t| ... \t| ... \t|\n"
      ]
    },
    {
      "cell_type": "code",
      "execution_count": null,
      "metadata": {
        "deletable": false,
        "nbgrader": {
          "cell_type": "code",
          "checksum": "6516b5bac2fa50ea6165e5157a9eddee",
          "grade": false,
          "grade_id": "cell-78bd02c9a082e60a",
          "locked": false,
          "schema_version": 3,
          "solution": true,
          "task": false
        },
        "id": "R0yteG41pilL"
      },
      "outputs": [],
      "source": [
        "rating_ranking = \"\"\"\n",
        "SELECT \n",
        "    product.productid, product.NAME, AVG(productreview.rating) as avgrating, COUNT(productreview.productid) as num_ratings\n",
        "FROM \n",
        "    product\n",
        "INNER JOIN \n",
        "    productreview ON product.productid = productreview.productid\n",
        "GROUP BY \n",
        "    NAME\n",
        "ORDER BY \n",
        "    avgrating DESC;\n",
        "\"\"\""
      ]
    },
    {
      "cell_type": "code",
      "execution_count": null,
      "metadata": {
        "id": "KdYBk5i5pilM",
        "outputId": "624877f5-39ba-495c-e6ed-cd3af2e0e849"
      },
      "outputs": [
        {
          "name": "stdout",
          "output_type": "stream",
          "text": [
            " * sqlite:///AdventureWorks.db\n",
            "Done.\n"
          ]
        },
        {
          "data": {
            "text/html": [
              "<table>\n",
              "    <tr>\n",
              "        <th>productid</th>\n",
              "        <th>NAME</th>\n",
              "        <th>avgrating</th>\n",
              "        <th>num_ratings</th>\n",
              "    </tr>\n",
              "    <tr>\n",
              "        <td>798</td>\n",
              "        <td>Road-550-W Yellow, 40</td>\n",
              "        <td>5.0</td>\n",
              "        <td>1</td>\n",
              "    </tr>\n",
              "    <tr>\n",
              "        <td>709</td>\n",
              "        <td>Mountain Bike Socks, M</td>\n",
              "        <td>5.0</td>\n",
              "        <td>1</td>\n",
              "    </tr>\n",
              "    <tr>\n",
              "        <td>937</td>\n",
              "        <td>HL Mountain Pedal</td>\n",
              "        <td>3.0</td>\n",
              "        <td>2</td>\n",
              "    </tr>\n",
              "</table>"
            ],
            "text/plain": [
              "[(798, 'Road-550-W Yellow, 40', 5.0, 1),\n",
              " (709, 'Mountain Bike Socks, M', 5.0, 1),\n",
              " (937, 'HL Mountain Pedal', 3.0, 2)]"
            ]
          },
          "execution_count": 13,
          "metadata": {},
          "output_type": "execute_result"
        }
      ],
      "source": [
        "%%sql\n",
        "\n",
        "SELECT \n",
        "    product.productid, product.NAME, AVG(productreview.rating) as avgrating, COUNT(productreview.productid) as num_ratings\n",
        "FROM \n",
        "    product\n",
        "INNER JOIN \n",
        "    productreview ON product.productid = productreview.productid\n",
        "GROUP BY \n",
        "    NAME\n",
        "ORDER BY \n",
        "    avgrating DESC;"
      ]
    },
    {
      "cell_type": "markdown",
      "metadata": {
        "deletable": false,
        "editable": false,
        "nbgrader": {
          "cell_type": "markdown",
          "checksum": "b7c065a813a3db7086a4bdd0751a6787",
          "grade": false,
          "grade_id": "cell-f7d713623329cd38",
          "locked": true,
          "schema_version": 3,
          "solution": false,
          "task": false
        },
        "tags": [
          "12_min"
        ],
        "id": "O9AqsDsYpilM"
      },
      "source": [
        "### Exercise 2 \n",
        "\n",
        "Much to your disappointment, there are only three products with ratings and only four reviews in total! This is nowhere near enough to perform an analysis of the correlation between reviews and total sales. Since we cannot infer the most popular products from the reviews, we will go with an alternative strategy.\n",
        "\n",
        "#### 2.1 (1 point)\n",
        "\n",
        "Get the product model ID and description for each product. Include only descriptions for which `productmodelproductdescriptionculture.cultureid = 'en'`.\n",
        "\n",
        "Your output should look like this:\n",
        "\n",
        "<table border=\"1\" class=\"dataframe\">  <thead>    <tr style=\"text-align: right;\">      <th>productmodelid</th>      <th>description</th>    </tr>  </thead>  <tbody>    <tr>      <td>1</td>      <td>Light-weight, wind-resistant, packs to fit into a pocket.</td>    </tr>    <tr>      <td>2</td>      <td>Traditional style with a flip-up brim; one-size fits all.</td>    </tr>    <tr>      <td>3</td>      <td>Synthetic palm, flexible knuckles, breathable mesh upper. Worn by the AWC team riders.</td>    </tr>    <tr>      <td>...</td>      <td>...</td>    </tr>  </tbody></table>"
      ]
    },
    {
      "cell_type": "code",
      "execution_count": null,
      "metadata": {
        "deletable": false,
        "nbgrader": {
          "cell_type": "code",
          "checksum": "35569c25bda7fc2b83305bd8b282add0",
          "grade": false,
          "grade_id": "cell-3ed82cf7bb2b9490",
          "locked": false,
          "schema_version": 3,
          "solution": true,
          "task": false
        },
        "id": "Z9NyF0P6pilN"
      },
      "outputs": [],
      "source": [
        "productmodelid_description=\"\"\"\n",
        "SELECT \n",
        "    pmi.productmodelid, pd.description\n",
        "FROM \n",
        "    ProductModelProductDescriptionCulture AS pmi\n",
        "INNER JOIN \n",
        "    ProductDescription AS pd ON pmi.productdescriptionid = pd.productdescriptionid\n",
        "WHERE \n",
        "    pmi.cultureid ='en'\n",
        "\"\"\"\n"
      ]
    },
    {
      "cell_type": "markdown",
      "metadata": {
        "deletable": false,
        "editable": false,
        "nbgrader": {
          "cell_type": "markdown",
          "checksum": "d476652b6ca7f953e8d467ecc6b31494",
          "grade": false,
          "grade_id": "cell-246ad6b432b0fddb",
          "locked": true,
          "schema_version": 3,
          "solution": false,
          "task": false
        },
        "tags": [
          "15_min"
        ],
        "id": "K4V0fTfapilO"
      },
      "source": [
        "#### 2.2 (2 points)\n",
        "\n",
        "Get the model ID, name, description, and total number of sales for each product and display the top-10 selling products. You can infer how often products have been sold by looking at the `salesorderdetail` table (each row might indicate more than one sale, so take note of `OrderQty`).\n",
        "\n",
        "Your output should look like this:\n",
        "\n",
        "<table border=\"1\" class=\"dataframe\">  <thead>    <tr style=\"text-align: right;\">      <th>productmodelid</th>      <th>description</th>      <th>NAME</th>      <th>total_orders</th>    </tr>  </thead>  <tbody>    <tr>      <td>2</td>      <td>Traditional style with a flip-up brim; one-size fits all.</td>      <td>AWC Logo Cap</td>      <td>8311</td>    </tr>    <tr>      <td>111</td>      <td>AWC logo water bottle - holds 30 oz; leak-proof.</td>      <td>Water Bottle - 30 oz.</td>      <td>6815</td>    </tr>    <tr>      <td>33</td>      <td>Universal fit, well-vented, lightweight , snap-on visor.</td>      <td>Sport-100 Helmet, Blue</td>      <td>6743</td>    </tr>    <tr>      <td>...</td>      <td>...</td>      <td>...</td>      <td>...</td>    </tr>  </tbody></table>\n",
        "\n",
        "**Hint:** Make the query you wrote in exercise 2.1 a temporary view with the `WITH ... AS` syntax. It will give you the English descriptions of the products as a starting point. Then `INNER JOIN` it with all the other relevant tables."
      ]
    },
    {
      "cell_type": "code",
      "execution_count": null,
      "metadata": {
        "deletable": false,
        "nbgrader": {
          "cell_type": "code",
          "checksum": "eccc52ebb4c0f7cadf54dbdd9a495b7b",
          "grade": false,
          "grade_id": "cell-951c87d78a1b09e4",
          "locked": false,
          "schema_version": 3,
          "solution": true,
          "task": false
        },
        "id": "bqCO0GE8pilO"
      },
      "outputs": [],
      "source": [
        "description_totalorders= \"\"\"\n",
        "WITH \n",
        "productmodelid_description(productmodelid, description) AS (\n",
        "    SELECT \n",
        "        pmi.productmodelid, pd.description\n",
        "    FROM \n",
        "        ProductModelProductDescriptionCulture AS pmi\n",
        "    INNER JOIN \n",
        "        ProductDescription AS pd ON pmi.productdescriptionid = pd.productdescriptionid\n",
        "    WHERE \n",
        "        pmi.cultureid ='en')\n",
        "\n",
        "SELECT \n",
        "    pmd.productmodelid, pmd.description, p.name, sum(sd.orderqty) AS total_orders\n",
        "FROM \n",
        "    productmodelid_description AS pmd\n",
        "INNER JOIN \n",
        "    Product AS p on p.productmodelid = pmd.productmodelid\n",
        "INNER JOIN \n",
        "    salesorderdetail AS sd on sd.productid = p.productid\n",
        "GROUP BY \n",
        "    p.name\n",
        "ORDER BY \n",
        "    total_orders desc\n",
        "LIMIT 10\n",
        "\"\"\"\n"
      ]
    },
    {
      "cell_type": "code",
      "execution_count": null,
      "metadata": {
        "scrolled": false,
        "id": "nKFxoxf8pilP",
        "outputId": "b427ef84-28d3-44a8-fbeb-d30c825cdfaa"
      },
      "outputs": [
        {
          "name": "stdout",
          "output_type": "stream",
          "text": [
            " * sqlite:///AdventureWorks.db\n",
            "Done.\n"
          ]
        },
        {
          "data": {
            "text/html": [
              "<table>\n",
              "    <tr>\n",
              "        <th>productmodelid</th>\n",
              "        <th>description</th>\n",
              "        <th>NAME</th>\n",
              "        <th>total_orders</th>\n",
              "    </tr>\n",
              "    <tr>\n",
              "        <td>2</td>\n",
              "        <td>Traditional style with a flip-up brim; one-size fits all.</td>\n",
              "        <td>AWC Logo Cap</td>\n",
              "        <td>8311</td>\n",
              "    </tr>\n",
              "    <tr>\n",
              "        <td>111</td>\n",
              "        <td>AWC logo water bottle - holds 30 oz; leak-proof.</td>\n",
              "        <td>Water Bottle - 30 oz.</td>\n",
              "        <td>6815</td>\n",
              "    </tr>\n",
              "    <tr>\n",
              "        <td>33</td>\n",
              "        <td>Universal fit, well-vented, lightweight , snap-on visor.</td>\n",
              "        <td>Sport-100 Helmet, Blue</td>\n",
              "        <td>6743</td>\n",
              "    </tr>\n",
              "    <tr>\n",
              "        <td>11</td>\n",
              "        <td>Unisex long-sleeve AWC logo microfiber cycling jersey</td>\n",
              "        <td>Long-Sleeve Logo Jersey, L</td>\n",
              "        <td>6592</td>\n",
              "    </tr>\n",
              "    <tr>\n",
              "        <td>33</td>\n",
              "        <td>Universal fit, well-vented, lightweight , snap-on visor.</td>\n",
              "        <td>Sport-100 Helmet, Black</td>\n",
              "        <td>6532</td>\n",
              "    </tr>\n",
              "    <tr>\n",
              "        <td>33</td>\n",
              "        <td>Universal fit, well-vented, lightweight , snap-on visor.</td>\n",
              "        <td>Sport-100 Helmet, Red</td>\n",
              "        <td>6266</td>\n",
              "    </tr>\n",
              "    <tr>\n",
              "        <td>1</td>\n",
              "        <td>Light-weight, wind-resistant, packs to fit into a pocket.</td>\n",
              "        <td>Classic Vest, S</td>\n",
              "        <td>4247</td>\n",
              "    </tr>\n",
              "    <tr>\n",
              "        <td>114</td>\n",
              "        <td>Includes 8 different size patches, glue and sandpaper.</td>\n",
              "        <td>Patch Kit/8 Patches</td>\n",
              "        <td>3865</td>\n",
              "    </tr>\n",
              "    <tr>\n",
              "        <td>32</td>\n",
              "        <td>Short sleeve classic breathable jersey with superior moisture control, front zipper, and 3 back pockets.</td>\n",
              "        <td>Short-Sleeve Classic Jersey, XL</td>\n",
              "        <td>3864</td>\n",
              "    </tr>\n",
              "    <tr>\n",
              "        <td>11</td>\n",
              "        <td>Unisex long-sleeve AWC logo microfiber cycling jersey</td>\n",
              "        <td>Long-Sleeve Logo Jersey, M</td>\n",
              "        <td>3636</td>\n",
              "    </tr>\n",
              "</table>"
            ],
            "text/plain": [
              "[(2, 'Traditional style with a flip-up brim; one-size fits all.', 'AWC Logo Cap', 8311),\n",
              " (111, 'AWC logo water bottle - holds 30 oz; leak-proof.', 'Water Bottle - 30 oz.', 6815),\n",
              " (33, 'Universal fit, well-vented, lightweight , snap-on visor.', 'Sport-100 Helmet, Blue', 6743),\n",
              " (11, 'Unisex long-sleeve AWC logo microfiber cycling jersey', 'Long-Sleeve Logo Jersey, L', 6592),\n",
              " (33, 'Universal fit, well-vented, lightweight , snap-on visor.', 'Sport-100 Helmet, Black', 6532),\n",
              " (33, 'Universal fit, well-vented, lightweight , snap-on visor.', 'Sport-100 Helmet, Red', 6266),\n",
              " (1, 'Light-weight, wind-resistant, packs to fit into a pocket.', 'Classic Vest, S', 4247),\n",
              " (114, 'Includes 8 different size patches, glue and sandpaper.', 'Patch Kit/8 Patches', 3865),\n",
              " (32, 'Short sleeve classic breathable jersey with superior moisture control, front zipper, and 3 back pockets.', 'Short-Sleeve Classic Jersey, XL', 3864),\n",
              " (11, 'Unisex long-sleeve AWC logo microfiber cycling jersey', 'Long-Sleeve Logo Jersey, M', 3636)]"
            ]
          },
          "execution_count": 17,
          "metadata": {},
          "output_type": "execute_result"
        }
      ],
      "source": [
        "%%sql\n",
        "\n",
        "WITH \n",
        "productmodelid_description(productmodelid, description) AS (\n",
        "    SELECT \n",
        "        pmi.productmodelid, pd.description\n",
        "    FROM \n",
        "        ProductModelProductDescriptionCulture AS pmi\n",
        "    INNER JOIN \n",
        "        ProductDescription AS pd ON pmi.productdescriptionid = pd.productdescriptionid\n",
        "    WHERE \n",
        "        pmi.cultureid ='en')\n",
        "\n",
        "SELECT \n",
        "    pmd.productmodelid, pmd.description, p.name, sum(sd.orderqty) AS total_orders\n",
        "FROM \n",
        "    productmodelid_description AS pmd\n",
        "INNER JOIN \n",
        "    Product AS p on p.productmodelid = pmd.productmodelid\n",
        "INNER JOIN \n",
        "    salesorderdetail AS sd on sd.productid = p.productid\n",
        "GROUP BY \n",
        "    p.name\n",
        "ORDER BY \n",
        "    total_orders desc\n",
        "LIMIT 10"
      ]
    },
    {
      "cell_type": "markdown",
      "metadata": {
        "deletable": false,
        "editable": false,
        "nbgrader": {
          "cell_type": "markdown",
          "checksum": "245975caffbb48a0db63b7e533142368",
          "grade": false,
          "grade_id": "cell-0c592ffb20fc0508",
          "locked": true,
          "schema_version": 3,
          "solution": false,
          "task": false
        },
        "id": "Hs1KTUl2pilP"
      },
      "source": [
        "### Exercise 3\n",
        "\n",
        "To get a better sense of the sales, let's look at the correlation between quantity sold and price for each subcategory."
      ]
    },
    {
      "cell_type": "markdown",
      "metadata": {
        "deletable": false,
        "editable": false,
        "nbgrader": {
          "cell_type": "markdown",
          "checksum": "db9ffb9f02006629aaeef37ad992309c",
          "grade": false,
          "grade_id": "cell-e6916ae13c89426b",
          "locked": true,
          "schema_version": 3,
          "solution": false,
          "task": false
        },
        "tags": [
          "7_min"
        ],
        "id": "zDmNnq1ApilP"
      },
      "source": [
        "#### 3.1 (1 point)\n",
        "\n",
        "Write a query that shows how many items were ordered in total for every product in the database. Do not filter by culture.\n",
        "\n",
        "Your output should look like this:\n",
        "\n",
        "| productid \t| quantity \t|\n",
        "|-:\t|-:\t|\n",
        "| 707 \t| 6266 \t|\n",
        "| 708 \t| 6532 \t|\n",
        "| 709 \t| 1107 \t|\n",
        "| 710 \t| 90 \t|\n",
        "| 711 \t| 6743 \t|\n",
        "| 712 \t| 8311 \t|\n",
        "| 713 \t| 429 \t|\n",
        "| 714 \t| 3636 \t|\n",
        "| ... \t| ... \t|\n",
        "\n",
        "**Hint:** Use the `salesorderdetail` table."
      ]
    },
    {
      "cell_type": "code",
      "execution_count": null,
      "metadata": {
        "deletable": false,
        "nbgrader": {
          "cell_type": "code",
          "checksum": "b99949461855e68db824bdb5aa2a4825",
          "grade": false,
          "grade_id": "cell-5dff218b27867982",
          "locked": false,
          "schema_version": 3,
          "solution": true,
          "task": false
        },
        "id": "YSumbbFhpilQ"
      },
      "outputs": [],
      "source": [
        "quantities_ordered = \"\"\"\n",
        "SELECT \n",
        "    productid, SUM(orderqty) as quantity\n",
        "FROM \n",
        "    SalesOrderDetail\n",
        "GROUP BY \n",
        "    productid\n",
        "\"\"\"\n"
      ]
    },
    {
      "cell_type": "code",
      "execution_count": null,
      "metadata": {
        "id": "qaIS2j-ipilQ",
        "outputId": "e05d8d4b-60e1-4e19-9b75-887930222c5c"
      },
      "outputs": [
        {
          "name": "stdout",
          "output_type": "stream",
          "text": [
            " * sqlite:///AdventureWorks.db\n",
            "Done.\n"
          ]
        },
        {
          "data": {
            "text/html": [
              "<table>\n",
              "    <tr>\n",
              "        <th>productid</th>\n",
              "        <th>quantity</th>\n",
              "    </tr>\n",
              "    <tr>\n",
              "        <td>707</td>\n",
              "        <td>6266</td>\n",
              "    </tr>\n",
              "    <tr>\n",
              "        <td>708</td>\n",
              "        <td>6532</td>\n",
              "    </tr>\n",
              "    <tr>\n",
              "        <td>709</td>\n",
              "        <td>1107</td>\n",
              "    </tr>\n",
              "    <tr>\n",
              "        <td>710</td>\n",
              "        <td>90</td>\n",
              "    </tr>\n",
              "    <tr>\n",
              "        <td>711</td>\n",
              "        <td>6743</td>\n",
              "    </tr>\n",
              "    <tr>\n",
              "        <td>712</td>\n",
              "        <td>8311</td>\n",
              "    </tr>\n",
              "    <tr>\n",
              "        <td>713</td>\n",
              "        <td>429</td>\n",
              "    </tr>\n",
              "    <tr>\n",
              "        <td>714</td>\n",
              "        <td>3636</td>\n",
              "    </tr>\n",
              "    <tr>\n",
              "        <td>715</td>\n",
              "        <td>6592</td>\n",
              "    </tr>\n",
              "    <tr>\n",
              "        <td>716</td>\n",
              "        <td>2980</td>\n",
              "    </tr>\n",
              "</table>"
            ],
            "text/plain": [
              "[(707, 6266),\n",
              " (708, 6532),\n",
              " (709, 1107),\n",
              " (710, 90),\n",
              " (711, 6743),\n",
              " (712, 8311),\n",
              " (713, 429),\n",
              " (714, 3636),\n",
              " (715, 6592),\n",
              " (716, 2980)]"
            ]
          },
          "execution_count": 19,
          "metadata": {},
          "output_type": "execute_result"
        }
      ],
      "source": [
        "%%sql\n",
        "\n",
        "SELECT \n",
        "    productid, SUM(orderqty) as quantity\n",
        "FROM \n",
        "    SalesOrderDetail\n",
        "GROUP BY \n",
        "    productid\n",
        "LIMIT 10"
      ]
    },
    {
      "cell_type": "markdown",
      "metadata": {
        "deletable": false,
        "editable": false,
        "nbgrader": {
          "cell_type": "markdown",
          "checksum": "6db28cc198a02dc250b5869f1c7cca7d",
          "grade": false,
          "grade_id": "cell-328d15d4ea818be3",
          "locked": true,
          "schema_version": 3,
          "solution": false,
          "task": false
        },
        "tags": [
          "12_min"
        ],
        "id": "Y7XisiThpilQ"
      },
      "source": [
        "#### 3.2 (1 point)\n",
        "\n",
        "Write a query that shows the list price for each product, alongside its category and subcategory. Your output should look like this:\n",
        "\n",
        "| productid \t| category \t| subcategory \t| listprice \t|\n",
        "|-:\t|-:\t|-:\t|-:\t|\n",
        "| 680 \t| Components \t| Road Frames \t| 1431.5 \t|\n",
        "| 706 \t| Components \t| Road Frames \t| 1431.5 \t|\n",
        "| 707 \t| Accessories \t| Helmets \t| 34.99 \t|\n",
        "| 708 \t| Accessories \t| Helmets \t| 34.99 \t|\n",
        "| 709 \t| Clothing \t| Socks \t| 9.5 \t|\n",
        "| 710 \t| Clothing \t| Socks \t| 9.5 \t|\n",
        "| 711 \t| Accessories \t| Helmets \t| 34.99 \t|\n",
        "| 712 \t| Clothing \t| Caps \t| 8.99 \t|\n",
        "| 713 \t| Clothing \t| Jerseys \t| 49.99 \t|\n",
        "| 714 \t| Clothing \t| Jerseys \t| 49.99 \t|\n",
        "| 715 \t| Clothing \t| Jerseys \t| 49.99 \t|\n",
        "| 716 \t| Clothing \t| Jerseys \t| 49.99 \t|\n",
        "| 717 \t| Components \t| Road Frames \t| 1431.5 \t|\n",
        "| 718 \t| Components \t| Road Frames \t| 1431.5 \t|\n",
        "| 719 \t| Components \t| Road Frames \t| 1431.5 \t|\n",
        "| ... \t| ... \t| ... \t| ... \t|\n",
        "\n",
        "**Hint:** You will find the product categories in the `productcategory` table, and the subcategories in the `productsubcategory` table."
      ]
    },
    {
      "cell_type": "code",
      "execution_count": null,
      "metadata": {
        "deletable": false,
        "nbgrader": {
          "cell_type": "code",
          "checksum": "d7ce5a07a1e871827d603d5112941b86",
          "grade": false,
          "grade_id": "cell-4e67d35f4d86e660",
          "locked": false,
          "schema_version": 3,
          "solution": true,
          "task": false
        },
        "id": "4wMtHCFdpilR"
      },
      "outputs": [],
      "source": [
        "products_prices=\"\"\"\n",
        "SELECT \n",
        "    p.productID, pc.name AS category, psc.name AS subcategory, p.listprice\n",
        "FROM \n",
        "    product AS p\n",
        "JOIN \n",
        "    productsubcategory AS psc ON psc.productsubcategoryID = p.productsubcategoryID\n",
        "JOIN \n",
        "    productcategory AS pc ON psc.productcategoryID = pc.productcategoryID\n",
        "GROUP BY \n",
        "    p.productID\n",
        "\"\"\"\n"
      ]
    },
    {
      "cell_type": "markdown",
      "metadata": {
        "deletable": false,
        "editable": false,
        "nbgrader": {
          "cell_type": "markdown",
          "checksum": "5dbcb6ebdbf7a7eeccd7b92c224cd3c6",
          "grade": false,
          "grade_id": "cell-e58b7484fb86cd28",
          "locked": true,
          "schema_version": 3,
          "solution": false,
          "task": false
        },
        "tags": [
          "10_min"
        ],
        "id": "IlcocvPOpilT"
      },
      "source": [
        "#### 3.3 (3 points)\n",
        "\n",
        "Merge the queries from exercises 3.1 and 3.2 to obtain a table that shows, for each subcategory, the average list price and the total quantity of products sold. Your output should look like this:\n",
        "\n",
        "| category \t| subcategory \t| average_price_in_subcategory \t| total_items_sold_in_subcategory \t|\n",
        "|-:\t|-:\t|-:\t|-:\t|\n",
        "| Accessories \t| Bike Racks \t| 120.0 \t| 3166 \t|\n",
        "| Accessories \t| Bike Stands \t| 159.0 \t| 249 \t|\n",
        "| Accessories \t| Bottles and Cages \t| 7.989999999999999 \t| 10552 \t|\n",
        "| Accessories \t| Cleaners \t| 7.95 \t| 3319 \t|\n",
        "| Accessories \t| Fenders \t| 21.98 \t| 2121 \t|\n",
        "| Accessories \t| Helmets \t| 34.99 \t| 19541 \t|\n",
        "| Accessories \t| Hydration Packs \t| 54.99 \t| 2761 \t|\n",
        "| Accessories \t| Locks \t| 25.0 \t| 1087 \t|\n",
        "| Accessories \t| Pumps \t| 19.99 \t| 1130 \t|\n",
        "| Accessories \t| Tires and Tubes \t| 19.482727272727274 \t| 18006 \t|\n",
        "| Bikes \t| Mountain Bikes \t| 1683.3649999999982 \t| 28321 \t|\n",
        "| Bikes \t| Road Bikes \t| 1597.45 \t| 47196 \t|\n",
        "| Bikes \t| Touring Bikes \t| 1425.2481818181814 \t| 14751 \t|\n",
        "| Clothing \t| Bib-Shorts \t| 89.99 \t| 3125 \t|\n",
        "| ... \t| ... \t| ... \t| ... \t|\n",
        "\n",
        "**Hint:** To have two `WITH ... AS` statements in the same query, you separate the subqueries with a comma and don't write `WITH` again. Like this:\n",
        "\n",
        "~~~sql\n",
        "WITH first_query_alias AS\n",
        "(\n",
        "    SELECT ...\n",
        "),\n",
        "second_query_alias AS -- Notice we didn't include a second WITH here\n",
        "(\n",
        "    SELECT...\n",
        ")\n",
        "SELECT ...\n",
        "~~~"
      ]
    },
    {
      "cell_type": "code",
      "execution_count": null,
      "metadata": {
        "deletable": false,
        "nbgrader": {
          "cell_type": "code",
          "checksum": "f8583fd555fced8cc6004ece53827e26",
          "grade": false,
          "grade_id": "cell-2b1bbc6190ec3559",
          "locked": false,
          "schema_version": 3,
          "solution": true,
          "task": false
        },
        "id": "ZA70vVP4pilT"
      },
      "outputs": [],
      "source": [
        "prices_quantities=\"\"\"\n",
        "WITH a AS (\n",
        "    SELECT \n",
        "        productid, SUM(orderqty) as quantity\n",
        "    FROM \n",
        "        SalesOrderDetail\n",
        "    GROUP BY \n",
        "        productid\n",
        "),\n",
        "b AS(    \n",
        "    SELECT \n",
        "        p.productID, pc.name AS category, psc.name AS subcategory, p.listprice\n",
        "    FROM \n",
        "        product AS p\n",
        "    JOIN \n",
        "        productsubcategory AS psc ON psc.productsubcategoryID = p.productsubcategoryID\n",
        "    JOIN \n",
        "        productcategory AS pc ON psc.productcategoryID = pc.productcategoryID\n",
        "    GROUP BY \n",
        "        p.productID\n",
        ")\n",
        "SELECT \n",
        "    b.category, b.subcategory, AVG(b.listprice) AS average_price_in_subcategory, SUM(a.quantity) AS total_items_sold_in_subcategory\n",
        "FROM \n",
        "    a\n",
        "JOIN \n",
        "    b ON a.productID=b.productID\n",
        "GROUP BY category, subcategory\n",
        "\"\"\"\n"
      ]
    },
    {
      "cell_type": "code",
      "execution_count": null,
      "metadata": {
        "scrolled": true,
        "id": "oVmyjaG8pilU",
        "outputId": "185449a4-86cd-42a9-8600-33b2e63b3b3f"
      },
      "outputs": [
        {
          "name": "stdout",
          "output_type": "stream",
          "text": [
            " * sqlite:///AdventureWorks.db\n",
            "Done.\n"
          ]
        },
        {
          "data": {
            "text/html": [
              "<table>\n",
              "    <tr>\n",
              "        <th>category</th>\n",
              "        <th>subcategory</th>\n",
              "        <th>average_price_in_subcategory</th>\n",
              "        <th>total_items_sold_in_subcategory</th>\n",
              "    </tr>\n",
              "    <tr>\n",
              "        <td>Accessories</td>\n",
              "        <td>Bike Racks</td>\n",
              "        <td>120.0</td>\n",
              "        <td>3166</td>\n",
              "    </tr>\n",
              "    <tr>\n",
              "        <td>Accessories</td>\n",
              "        <td>Bike Stands</td>\n",
              "        <td>159.0</td>\n",
              "        <td>249</td>\n",
              "    </tr>\n",
              "    <tr>\n",
              "        <td>Accessories</td>\n",
              "        <td>Bottles and Cages</td>\n",
              "        <td>7.989999999999999</td>\n",
              "        <td>10552</td>\n",
              "    </tr>\n",
              "    <tr>\n",
              "        <td>Accessories</td>\n",
              "        <td>Cleaners</td>\n",
              "        <td>7.95</td>\n",
              "        <td>3319</td>\n",
              "    </tr>\n",
              "    <tr>\n",
              "        <td>Accessories</td>\n",
              "        <td>Fenders</td>\n",
              "        <td>21.98</td>\n",
              "        <td>2121</td>\n",
              "    </tr>\n",
              "    <tr>\n",
              "        <td>Accessories</td>\n",
              "        <td>Helmets</td>\n",
              "        <td>34.99</td>\n",
              "        <td>19541</td>\n",
              "    </tr>\n",
              "    <tr>\n",
              "        <td>Accessories</td>\n",
              "        <td>Hydration Packs</td>\n",
              "        <td>54.99</td>\n",
              "        <td>2761</td>\n",
              "    </tr>\n",
              "    <tr>\n",
              "        <td>Accessories</td>\n",
              "        <td>Locks</td>\n",
              "        <td>25.0</td>\n",
              "        <td>1087</td>\n",
              "    </tr>\n",
              "    <tr>\n",
              "        <td>Accessories</td>\n",
              "        <td>Pumps</td>\n",
              "        <td>19.99</td>\n",
              "        <td>1130</td>\n",
              "    </tr>\n",
              "    <tr>\n",
              "        <td>Accessories</td>\n",
              "        <td>Tires and Tubes</td>\n",
              "        <td>19.482727272727274</td>\n",
              "        <td>18006</td>\n",
              "    </tr>\n",
              "    <tr>\n",
              "        <td>Bikes</td>\n",
              "        <td>Mountain Bikes</td>\n",
              "        <td>1683.3649999999982</td>\n",
              "        <td>28321</td>\n",
              "    </tr>\n",
              "    <tr>\n",
              "        <td>Bikes</td>\n",
              "        <td>Road Bikes</td>\n",
              "        <td>1597.45</td>\n",
              "        <td>47196</td>\n",
              "    </tr>\n",
              "    <tr>\n",
              "        <td>Bikes</td>\n",
              "        <td>Touring Bikes</td>\n",
              "        <td>1425.2481818181814</td>\n",
              "        <td>14751</td>\n",
              "    </tr>\n",
              "    <tr>\n",
              "        <td>Clothing</td>\n",
              "        <td>Bib-Shorts</td>\n",
              "        <td>89.99</td>\n",
              "        <td>3125</td>\n",
              "    </tr>\n",
              "    <tr>\n",
              "        <td>Clothing</td>\n",
              "        <td>Caps</td>\n",
              "        <td>8.99</td>\n",
              "        <td>8311</td>\n",
              "    </tr>\n",
              "    <tr>\n",
              "        <td>Clothing</td>\n",
              "        <td>Gloves</td>\n",
              "        <td>31.240000000000006</td>\n",
              "        <td>13012</td>\n",
              "    </tr>\n",
              "    <tr>\n",
              "        <td>Clothing</td>\n",
              "        <td>Jerseys</td>\n",
              "        <td>51.99</td>\n",
              "        <td>22711</td>\n",
              "    </tr>\n",
              "    <tr>\n",
              "        <td>Clothing</td>\n",
              "        <td>Shorts</td>\n",
              "        <td>64.99</td>\n",
              "        <td>9967</td>\n",
              "    </tr>\n",
              "    <tr>\n",
              "        <td>Clothing</td>\n",
              "        <td>Socks</td>\n",
              "        <td>9.245000000000001</td>\n",
              "        <td>5217</td>\n",
              "    </tr>\n",
              "    <tr>\n",
              "        <td>Clothing</td>\n",
              "        <td>Tights</td>\n",
              "        <td>74.99</td>\n",
              "        <td>4589</td>\n",
              "    </tr>\n",
              "    <tr>\n",
              "        <td>Clothing</td>\n",
              "        <td>Vests</td>\n",
              "        <td>63.5</td>\n",
              "        <td>6738</td>\n",
              "    </tr>\n",
              "    <tr>\n",
              "        <td>Components</td>\n",
              "        <td>Bottom Brackets</td>\n",
              "        <td>87.74</td>\n",
              "        <td>921</td>\n",
              "    </tr>\n",
              "    <tr>\n",
              "        <td>Components</td>\n",
              "        <td>Brakes</td>\n",
              "        <td>106.5</td>\n",
              "        <td>1035</td>\n",
              "    </tr>\n",
              "    <tr>\n",
              "        <td>Components</td>\n",
              "        <td>Chains</td>\n",
              "        <td>20.24</td>\n",
              "        <td>774</td>\n",
              "    </tr>\n",
              "    <tr>\n",
              "        <td>Components</td>\n",
              "        <td>Cranksets</td>\n",
              "        <td>278.99</td>\n",
              "        <td>1107</td>\n",
              "    </tr>\n",
              "    <tr>\n",
              "        <td>Components</td>\n",
              "        <td>Derailleurs</td>\n",
              "        <td>106.475</td>\n",
              "        <td>1166</td>\n",
              "    </tr>\n",
              "    <tr>\n",
              "        <td>Components</td>\n",
              "        <td>Forks</td>\n",
              "        <td>188.85500000000002</td>\n",
              "        <td>634</td>\n",
              "    </tr>\n",
              "    <tr>\n",
              "        <td>Components</td>\n",
              "        <td>Handlebars</td>\n",
              "        <td>75.60000000000001</td>\n",
              "        <td>3950</td>\n",
              "    </tr>\n",
              "    <tr>\n",
              "        <td>Components</td>\n",
              "        <td>Headsets</td>\n",
              "        <td>87.07333333333334</td>\n",
              "        <td>1009</td>\n",
              "    </tr>\n",
              "    <tr>\n",
              "        <td>Components</td>\n",
              "        <td>Mountain Frames</td>\n",
              "        <td>626.0384615384617</td>\n",
              "        <td>11621</td>\n",
              "    </tr>\n",
              "    <tr>\n",
              "        <td>Components</td>\n",
              "        <td>Pedals</td>\n",
              "        <td>64.01857142857143</td>\n",
              "        <td>3931</td>\n",
              "    </tr>\n",
              "    <tr>\n",
              "        <td>Components</td>\n",
              "        <td>Road Frames</td>\n",
              "        <td>688.0730000000001</td>\n",
              "        <td>11753</td>\n",
              "    </tr>\n",
              "    <tr>\n",
              "        <td>Components</td>\n",
              "        <td>Saddles</td>\n",
              "        <td>39.695</td>\n",
              "        <td>2145</td>\n",
              "    </tr>\n",
              "    <tr>\n",
              "        <td>Components</td>\n",
              "        <td>Touring Frames</td>\n",
              "        <td>648.9447058823529</td>\n",
              "        <td>3725</td>\n",
              "    </tr>\n",
              "    <tr>\n",
              "        <td>Components</td>\n",
              "        <td>Wheels</td>\n",
              "        <td>231.3113636363636</td>\n",
              "        <td>5273</td>\n",
              "    </tr>\n",
              "</table>"
            ],
            "text/plain": [
              "[('Accessories', 'Bike Racks', 120.0, 3166),\n",
              " ('Accessories', 'Bike Stands', 159.0, 249),\n",
              " ('Accessories', 'Bottles and Cages', 7.989999999999999, 10552),\n",
              " ('Accessories', 'Cleaners', 7.95, 3319),\n",
              " ('Accessories', 'Fenders', 21.98, 2121),\n",
              " ('Accessories', 'Helmets', 34.99, 19541),\n",
              " ('Accessories', 'Hydration Packs', 54.99, 2761),\n",
              " ('Accessories', 'Locks', 25.0, 1087),\n",
              " ('Accessories', 'Pumps', 19.99, 1130),\n",
              " ('Accessories', 'Tires and Tubes', 19.482727272727274, 18006),\n",
              " ('Bikes', 'Mountain Bikes', 1683.3649999999982, 28321),\n",
              " ('Bikes', 'Road Bikes', 1597.45, 47196),\n",
              " ('Bikes', 'Touring Bikes', 1425.2481818181814, 14751),\n",
              " ('Clothing', 'Bib-Shorts', 89.99, 3125),\n",
              " ('Clothing', 'Caps', 8.99, 8311),\n",
              " ('Clothing', 'Gloves', 31.240000000000006, 13012),\n",
              " ('Clothing', 'Jerseys', 51.99, 22711),\n",
              " ('Clothing', 'Shorts', 64.99, 9967),\n",
              " ('Clothing', 'Socks', 9.245000000000001, 5217),\n",
              " ('Clothing', 'Tights', 74.99, 4589),\n",
              " ('Clothing', 'Vests', 63.5, 6738),\n",
              " ('Components', 'Bottom Brackets', 87.74, 921),\n",
              " ('Components', 'Brakes', 106.5, 1035),\n",
              " ('Components', 'Chains', 20.24, 774),\n",
              " ('Components', 'Cranksets', 278.99, 1107),\n",
              " ('Components', 'Derailleurs', 106.475, 1166),\n",
              " ('Components', 'Forks', 188.85500000000002, 634),\n",
              " ('Components', 'Handlebars', 75.60000000000001, 3950),\n",
              " ('Components', 'Headsets', 87.07333333333334, 1009),\n",
              " ('Components', 'Mountain Frames', 626.0384615384617, 11621),\n",
              " ('Components', 'Pedals', 64.01857142857143, 3931),\n",
              " ('Components', 'Road Frames', 688.0730000000001, 11753),\n",
              " ('Components', 'Saddles', 39.695, 2145),\n",
              " ('Components', 'Touring Frames', 648.9447058823529, 3725),\n",
              " ('Components', 'Wheels', 231.3113636363636, 5273)]"
            ]
          },
          "execution_count": 23,
          "metadata": {},
          "output_type": "execute_result"
        }
      ],
      "source": [
        "%%sql \n",
        "WITH a AS (\n",
        "    SELECT \n",
        "        productid, SUM(orderqty) as quantity\n",
        "    FROM \n",
        "        SalesOrderDetail\n",
        "    GROUP BY \n",
        "        productid\n",
        "),\n",
        "b AS(    \n",
        "    SELECT \n",
        "        p.productID, pc.name AS category, psc.name AS subcategory, p.listprice\n",
        "    FROM \n",
        "        product AS p\n",
        "    JOIN \n",
        "        productsubcategory AS psc ON psc.productsubcategoryID = p.productsubcategoryID\n",
        "    JOIN \n",
        "        productcategory AS pc ON psc.productcategoryID = pc.productcategoryID\n",
        "    GROUP BY \n",
        "        p.productID\n",
        ")\n",
        "SELECT \n",
        "    b.category, b.subcategory, AVG(b.listprice) AS average_price_in_subcategory, SUM(a.quantity) AS total_items_sold_in_subcategory\n",
        "FROM \n",
        "    a\n",
        "JOIN \n",
        "    b ON a.productID=b.productID\n",
        "GROUP BY category, subcategory\n"
      ]
    },
    {
      "cell_type": "markdown",
      "metadata": {
        "deletable": false,
        "editable": false,
        "nbgrader": {
          "cell_type": "markdown",
          "checksum": "2f42d31be594487e98ad80795243e4a7",
          "grade": false,
          "grade_id": "cell-bb89b55927c62251",
          "locked": true,
          "schema_version": 3,
          "solution": false,
          "task": false
        },
        "id": "c-T4O1JFpilU"
      },
      "source": [
        "There is positive correlation between average price and items sold ($\\rho=0.68$). This is somewhat unexpected, since common sense tells us that the more expensive an item is, the lower the demand for it. It is possible that we are witnessing an instance of Simpson's Paradox here. To verify if that is indeed the case, we could instead compute the correlation coefficient for each subcategory, possibly evidencing a negative correlation coefficient in some subcategories. We will not do that right now, however, since it would make us deviate too much from our business problem."
      ]
    },
    {
      "cell_type": "markdown",
      "metadata": {
        "deletable": false,
        "editable": false,
        "nbgrader": {
          "cell_type": "markdown",
          "checksum": "e0e2b19adebaebb1b7b931502d7a38e8",
          "grade": false,
          "grade_id": "cell-65f8310da924a04b",
          "locked": true,
          "schema_version": 3,
          "solution": false,
          "task": false
        },
        "id": "jywoO6BbpilU"
      },
      "source": [
        "## Finding our top salespeople\n",
        "\n",
        "As mentioned earlier, we want to find our best salespeople and see whether or not we can incentivize them in an appropriate manner. Namely, we want to determine if the commission percentage we give them motivates them to make more and bigger sales."
      ]
    },
    {
      "cell_type": "markdown",
      "metadata": {
        "deletable": false,
        "editable": false,
        "nbgrader": {
          "cell_type": "markdown",
          "checksum": "14cb6963816ea6b7d855df0d70815c40",
          "grade": false,
          "grade_id": "cell-6cda8ee742e6d487",
          "locked": true,
          "schema_version": 3,
          "solution": false,
          "task": false
        },
        "tags": [
          "6_min"
        ],
        "id": "1tKWTRc9pilV"
      },
      "source": [
        "### Exercise 4 (1 point)\n",
        "\n",
        "Find the top five performing salespeople by using the `salesytd` (Sales, year-to-date) column.\n",
        "\n",
        "Your output should look like this:\n",
        "\n",
        "<table border=\"1\" class=\"dataframe\">  <thead>    <tr style=\"text-align: right;\">      <th>businessentityid</th>      <th>salesytd</th>    </tr>  </thead>  <tbody>    <tr>      <td>276</td>      <td>4251368.5497</td>    </tr>    <tr>      <td>289</td>      <td>4116871.2277</td>    </tr>    <tr>      <td>275</td>      <td>3763178.1787</td>    </tr>    <tr>      <td>...</td>      <td>...</td>    </tr>  </tbody></table>\n",
        "\n",
        "**Hint:** We only need to know the `businessentityid` for each salesperson as this uniquely identifies each salesperson. Your query should therefore only have two columns: `businessentityid` and `salesytd`."
      ]
    },
    {
      "cell_type": "code",
      "execution_count": null,
      "metadata": {
        "deletable": false,
        "nbgrader": {
          "cell_type": "code",
          "checksum": "808f8c73d56ecc542152aafe71189674",
          "grade": false,
          "grade_id": "cell-90c98fed73ba03e1",
          "locked": false,
          "schema_version": 3,
          "solution": true,
          "task": false
        },
        "id": "look_NPipilV"
      },
      "outputs": [],
      "source": [
        "salesperson_sales=\"\"\"\n",
        "SELECT \n",
        "    businessentityid, salesytd\n",
        "FROM \n",
        "    SalesPerson\n",
        "ORDER BY \n",
        "    salesytd desc\n",
        "LIMIT 5\n",
        "\"\"\"\n"
      ]
    },
    {
      "cell_type": "code",
      "execution_count": null,
      "metadata": {
        "id": "vthRBxtRpilV",
        "outputId": "1c392f2b-1693-4ae3-f93c-28f60d169729"
      },
      "outputs": [
        {
          "name": "stdout",
          "output_type": "stream",
          "text": [
            " * sqlite:///AdventureWorks.db\n",
            "Done.\n"
          ]
        },
        {
          "data": {
            "text/html": [
              "<table>\n",
              "    <tr>\n",
              "        <th>businessentityid</th>\n",
              "        <th>territoryid</th>\n",
              "        <th>salesquota</th>\n",
              "        <th>bonus</th>\n",
              "        <th>commissionpct</th>\n",
              "        <th>salesytd</th>\n",
              "        <th>saleslastyear</th>\n",
              "        <th>rowguid</th>\n",
              "        <th>modifieddate</th>\n",
              "    </tr>\n",
              "    <tr>\n",
              "        <td>274</td>\n",
              "        <td></td>\n",
              "        <td></td>\n",
              "        <td>0</td>\n",
              "        <td>0.0</td>\n",
              "        <td>559697.5639</td>\n",
              "        <td>0.0</td>\n",
              "        <td>48754992-9ee0-4c0e-8c94-9451604e3e02</td>\n",
              "        <td>2010-12-28 00:00:00</td>\n",
              "    </tr>\n",
              "    <tr>\n",
              "        <td>275</td>\n",
              "        <td>2</td>\n",
              "        <td>300000</td>\n",
              "        <td>4100</td>\n",
              "        <td>0.012</td>\n",
              "        <td>3763178.1787</td>\n",
              "        <td>1750406.4785</td>\n",
              "        <td>1e0a7274-3064-4f58-88ee-4c6586c87169</td>\n",
              "        <td>2011-05-24 00:00:00</td>\n",
              "    </tr>\n",
              "    <tr>\n",
              "        <td>276</td>\n",
              "        <td>4</td>\n",
              "        <td>250000</td>\n",
              "        <td>2000</td>\n",
              "        <td>0.015</td>\n",
              "        <td>4251368.5497</td>\n",
              "        <td>1439156.0291</td>\n",
              "        <td>4dd9eee4-8e81-4f8c-af97-683394c1f7c0</td>\n",
              "        <td>2011-05-24 00:00:00</td>\n",
              "    </tr>\n",
              "    <tr>\n",
              "        <td>277</td>\n",
              "        <td>3</td>\n",
              "        <td>250000</td>\n",
              "        <td>2500</td>\n",
              "        <td>0.015</td>\n",
              "        <td>3189418.3662</td>\n",
              "        <td>1997186.2037</td>\n",
              "        <td>39012928-bfec-4242-874d-423162c3f567</td>\n",
              "        <td>2011-05-24 00:00:00</td>\n",
              "    </tr>\n",
              "    <tr>\n",
              "        <td>278</td>\n",
              "        <td>6</td>\n",
              "        <td>250000</td>\n",
              "        <td>500</td>\n",
              "        <td>0.01</td>\n",
              "        <td>1453719.4653</td>\n",
              "        <td>1620276.8966</td>\n",
              "        <td>7a0ae1ab-b283-40f9-91d1-167abf06d720</td>\n",
              "        <td>2011-05-24 00:00:00</td>\n",
              "    </tr>\n",
              "    <tr>\n",
              "        <td>279</td>\n",
              "        <td>5</td>\n",
              "        <td>300000</td>\n",
              "        <td>6700</td>\n",
              "        <td>0.01</td>\n",
              "        <td>2315185.611</td>\n",
              "        <td>1849640.9418</td>\n",
              "        <td>52a5179d-3239-4157-ae29-17e868296dc0</td>\n",
              "        <td>2011-05-24 00:00:00</td>\n",
              "    </tr>\n",
              "    <tr>\n",
              "        <td>280</td>\n",
              "        <td>1</td>\n",
              "        <td>250000</td>\n",
              "        <td>5000</td>\n",
              "        <td>0.01</td>\n",
              "        <td>1352577.1325</td>\n",
              "        <td>1927059.178</td>\n",
              "        <td>be941a4a-fb50-4947-bda4-bb8972365b08</td>\n",
              "        <td>2011-05-24 00:00:00</td>\n",
              "    </tr>\n",
              "    <tr>\n",
              "        <td>281</td>\n",
              "        <td>4</td>\n",
              "        <td>250000</td>\n",
              "        <td>3550</td>\n",
              "        <td>0.01</td>\n",
              "        <td>2458535.6169</td>\n",
              "        <td>2073505.9999</td>\n",
              "        <td>35326ddb-7278-4fef-b3ba-ea137b69094e</td>\n",
              "        <td>2011-05-24 00:00:00</td>\n",
              "    </tr>\n",
              "    <tr>\n",
              "        <td>282</td>\n",
              "        <td>6</td>\n",
              "        <td>250000</td>\n",
              "        <td>5000</td>\n",
              "        <td>0.015</td>\n",
              "        <td>2604540.7172</td>\n",
              "        <td>2038234.6549</td>\n",
              "        <td>31fd7fc1-dc84-4f05-b9a0-762519eacacc</td>\n",
              "        <td>2011-05-24 00:00:00</td>\n",
              "    </tr>\n",
              "    <tr>\n",
              "        <td>283</td>\n",
              "        <td>1</td>\n",
              "        <td>250000</td>\n",
              "        <td>3500</td>\n",
              "        <td>0.012</td>\n",
              "        <td>1573012.9383</td>\n",
              "        <td>1371635.3158</td>\n",
              "        <td>6bac15b2-8ffb-45a9-b6d5-040e16c2073f</td>\n",
              "        <td>2011-05-24 00:00:00</td>\n",
              "    </tr>\n",
              "    <tr>\n",
              "        <td>284</td>\n",
              "        <td>1</td>\n",
              "        <td>300000</td>\n",
              "        <td>3900</td>\n",
              "        <td>0.019</td>\n",
              "        <td>1576562.1966</td>\n",
              "        <td>0.0</td>\n",
              "        <td>ac94ec04-a2dc-43e3-8654-dd0c546abc17</td>\n",
              "        <td>2012-09-23 00:00:00</td>\n",
              "    </tr>\n",
              "    <tr>\n",
              "        <td>285</td>\n",
              "        <td></td>\n",
              "        <td></td>\n",
              "        <td>0</td>\n",
              "        <td>0.0</td>\n",
              "        <td>172524.4512</td>\n",
              "        <td>0.0</td>\n",
              "        <td>cfdbef27-b1f7-4a56-a878-0221c73bae67</td>\n",
              "        <td>2013-03-07 00:00:00</td>\n",
              "    </tr>\n",
              "    <tr>\n",
              "        <td>286</td>\n",
              "        <td>9</td>\n",
              "        <td>250000</td>\n",
              "        <td>5650</td>\n",
              "        <td>0.018</td>\n",
              "        <td>1421810.9242</td>\n",
              "        <td>2278548.9776</td>\n",
              "        <td>9b968777-75dc-45bd-a8df-9cdaa72839e1</td>\n",
              "        <td>2013-05-23 00:00:00</td>\n",
              "    </tr>\n",
              "    <tr>\n",
              "        <td>287</td>\n",
              "        <td></td>\n",
              "        <td></td>\n",
              "        <td>0</td>\n",
              "        <td>0.0</td>\n",
              "        <td>519905.932</td>\n",
              "        <td>0.0</td>\n",
              "        <td>1dd1f689-df74-4149-8600-59555eef154b</td>\n",
              "        <td>2012-04-09 00:00:00</td>\n",
              "    </tr>\n",
              "    <tr>\n",
              "        <td>288</td>\n",
              "        <td>8</td>\n",
              "        <td>250000</td>\n",
              "        <td>75</td>\n",
              "        <td>0.018</td>\n",
              "        <td>1827066.7118</td>\n",
              "        <td>1307949.7917</td>\n",
              "        <td>224bb25a-62e3-493e-acaf-4f8f5c72396a</td>\n",
              "        <td>2013-05-23 00:00:00</td>\n",
              "    </tr>\n",
              "    <tr>\n",
              "        <td>289</td>\n",
              "        <td>10</td>\n",
              "        <td>250000</td>\n",
              "        <td>5150</td>\n",
              "        <td>0.02</td>\n",
              "        <td>4116871.2277</td>\n",
              "        <td>1635823.3967</td>\n",
              "        <td>25f6838d-9db4-4833-9ddc-7a24283af1ba</td>\n",
              "        <td>2012-05-23 00:00:00</td>\n",
              "    </tr>\n",
              "    <tr>\n",
              "        <td>290</td>\n",
              "        <td>7</td>\n",
              "        <td>250000</td>\n",
              "        <td>985</td>\n",
              "        <td>0.016</td>\n",
              "        <td>3121616.3202</td>\n",
              "        <td>2396539.7601</td>\n",
              "        <td>f509e3d4-76c8-42aa-b353-90b7b8db08de</td>\n",
              "        <td>2012-05-23 00:00:00</td>\n",
              "    </tr>\n",
              "</table>"
            ],
            "text/plain": [
              "[(274, '', '', 0, 0.0, 559697.5639, 0.0, '48754992-9ee0-4c0e-8c94-9451604e3e02', '2010-12-28 00:00:00'),\n",
              " (275, 2, 300000, 4100, 0.012, 3763178.1787, 1750406.4785, '1e0a7274-3064-4f58-88ee-4c6586c87169', '2011-05-24 00:00:00'),\n",
              " (276, 4, 250000, 2000, 0.015, 4251368.5497, 1439156.0291, '4dd9eee4-8e81-4f8c-af97-683394c1f7c0', '2011-05-24 00:00:00'),\n",
              " (277, 3, 250000, 2500, 0.015, 3189418.3662, 1997186.2037, '39012928-bfec-4242-874d-423162c3f567', '2011-05-24 00:00:00'),\n",
              " (278, 6, 250000, 500, 0.01, 1453719.4653, 1620276.8966, '7a0ae1ab-b283-40f9-91d1-167abf06d720', '2011-05-24 00:00:00'),\n",
              " (279, 5, 300000, 6700, 0.01, 2315185.611, 1849640.9418, '52a5179d-3239-4157-ae29-17e868296dc0', '2011-05-24 00:00:00'),\n",
              " (280, 1, 250000, 5000, 0.01, 1352577.1325, 1927059.178, 'be941a4a-fb50-4947-bda4-bb8972365b08', '2011-05-24 00:00:00'),\n",
              " (281, 4, 250000, 3550, 0.01, 2458535.6169, 2073505.9999, '35326ddb-7278-4fef-b3ba-ea137b69094e', '2011-05-24 00:00:00'),\n",
              " (282, 6, 250000, 5000, 0.015, 2604540.7172, 2038234.6549, '31fd7fc1-dc84-4f05-b9a0-762519eacacc', '2011-05-24 00:00:00'),\n",
              " (283, 1, 250000, 3500, 0.012, 1573012.9383, 1371635.3158, '6bac15b2-8ffb-45a9-b6d5-040e16c2073f', '2011-05-24 00:00:00'),\n",
              " (284, 1, 300000, 3900, 0.019, 1576562.1966, 0.0, 'ac94ec04-a2dc-43e3-8654-dd0c546abc17', '2012-09-23 00:00:00'),\n",
              " (285, '', '', 0, 0.0, 172524.4512, 0.0, 'cfdbef27-b1f7-4a56-a878-0221c73bae67', '2013-03-07 00:00:00'),\n",
              " (286, 9, 250000, 5650, 0.018, 1421810.9242, 2278548.9776, '9b968777-75dc-45bd-a8df-9cdaa72839e1', '2013-05-23 00:00:00'),\n",
              " (287, '', '', 0, 0.0, 519905.932, 0.0, '1dd1f689-df74-4149-8600-59555eef154b', '2012-04-09 00:00:00'),\n",
              " (288, 8, 250000, 75, 0.018, 1827066.7118, 1307949.7917, '224bb25a-62e3-493e-acaf-4f8f5c72396a', '2013-05-23 00:00:00'),\n",
              " (289, 10, 250000, 5150, 0.02, 4116871.2277, 1635823.3967, '25f6838d-9db4-4833-9ddc-7a24283af1ba', '2012-05-23 00:00:00'),\n",
              " (290, 7, 250000, 985, 0.016, 3121616.3202, 2396539.7601, 'f509e3d4-76c8-42aa-b353-90b7b8db08de', '2012-05-23 00:00:00')]"
            ]
          },
          "execution_count": 25,
          "metadata": {},
          "output_type": "execute_result"
        }
      ],
      "source": [
        "%%sql\n",
        "SELECT *\n",
        "FROM SalesPerson"
      ]
    },
    {
      "cell_type": "code",
      "execution_count": null,
      "metadata": {
        "id": "qSxvspVjpilW",
        "outputId": "202ccc9c-f329-4067-dea5-0d49878fa5c5"
      },
      "outputs": [
        {
          "name": "stdout",
          "output_type": "stream",
          "text": [
            " * sqlite:///AdventureWorks.db\n",
            "Done.\n"
          ]
        },
        {
          "data": {
            "text/html": [
              "<table>\n",
              "    <tr>\n",
              "        <th>businessentityid</th>\n",
              "        <th>salesytd</th>\n",
              "    </tr>\n",
              "    <tr>\n",
              "        <td>276</td>\n",
              "        <td>4251368.5497</td>\n",
              "    </tr>\n",
              "    <tr>\n",
              "        <td>289</td>\n",
              "        <td>4116871.2277</td>\n",
              "    </tr>\n",
              "    <tr>\n",
              "        <td>275</td>\n",
              "        <td>3763178.1787</td>\n",
              "    </tr>\n",
              "    <tr>\n",
              "        <td>277</td>\n",
              "        <td>3189418.3662</td>\n",
              "    </tr>\n",
              "    <tr>\n",
              "        <td>290</td>\n",
              "        <td>3121616.3202</td>\n",
              "    </tr>\n",
              "    <tr>\n",
              "        <td>282</td>\n",
              "        <td>2604540.7172</td>\n",
              "    </tr>\n",
              "    <tr>\n",
              "        <td>281</td>\n",
              "        <td>2458535.6169</td>\n",
              "    </tr>\n",
              "    <tr>\n",
              "        <td>279</td>\n",
              "        <td>2315185.611</td>\n",
              "    </tr>\n",
              "    <tr>\n",
              "        <td>288</td>\n",
              "        <td>1827066.7118</td>\n",
              "    </tr>\n",
              "    <tr>\n",
              "        <td>284</td>\n",
              "        <td>1576562.1966</td>\n",
              "    </tr>\n",
              "    <tr>\n",
              "        <td>283</td>\n",
              "        <td>1573012.9383</td>\n",
              "    </tr>\n",
              "    <tr>\n",
              "        <td>278</td>\n",
              "        <td>1453719.4653</td>\n",
              "    </tr>\n",
              "    <tr>\n",
              "        <td>286</td>\n",
              "        <td>1421810.9242</td>\n",
              "    </tr>\n",
              "    <tr>\n",
              "        <td>280</td>\n",
              "        <td>1352577.1325</td>\n",
              "    </tr>\n",
              "    <tr>\n",
              "        <td>274</td>\n",
              "        <td>559697.5639</td>\n",
              "    </tr>\n",
              "    <tr>\n",
              "        <td>287</td>\n",
              "        <td>519905.932</td>\n",
              "    </tr>\n",
              "    <tr>\n",
              "        <td>285</td>\n",
              "        <td>172524.4512</td>\n",
              "    </tr>\n",
              "</table>"
            ],
            "text/plain": [
              "[(276, 4251368.5497),\n",
              " (289, 4116871.2277),\n",
              " (275, 3763178.1787),\n",
              " (277, 3189418.3662),\n",
              " (290, 3121616.3202),\n",
              " (282, 2604540.7172),\n",
              " (281, 2458535.6169),\n",
              " (279, 2315185.611),\n",
              " (288, 1827066.7118),\n",
              " (284, 1576562.1966),\n",
              " (283, 1573012.9383),\n",
              " (278, 1453719.4653),\n",
              " (286, 1421810.9242),\n",
              " (280, 1352577.1325),\n",
              " (274, 559697.5639),\n",
              " (287, 519905.932),\n",
              " (285, 172524.4512)]"
            ]
          },
          "execution_count": 26,
          "metadata": {},
          "output_type": "execute_result"
        }
      ],
      "source": [
        "%%sql\n",
        "SELECT \n",
        "    businessentityid, salesytd\n",
        "FROM \n",
        "    SalesPerson\n",
        "ORDER BY \n",
        "    salesytd desc"
      ]
    },
    {
      "cell_type": "markdown",
      "metadata": {
        "deletable": false,
        "editable": false,
        "nbgrader": {
          "cell_type": "markdown",
          "checksum": "a3c653b67a745f9ad2b90056f7ed88f7",
          "grade": false,
          "grade_id": "cell-d3ff14f90629f05c",
          "locked": true,
          "schema_version": 3,
          "solution": false,
          "task": false
        },
        "tags": [
          "8_min"
        ],
        "id": "s4AEtXvbpilW"
      },
      "source": [
        "### Exercise 5 (2 points)\n",
        "\n",
        "The sales numbers from the previous query are hard-coded into the `salesperson` table, instead of dynamically calculated from each sales record. Currently, we don't know how this number is updated or much about it at all, so it's good to remain skeptical.\n",
        "\n",
        "Using the ```salesorderheader``` table, find the top 5 salespeople who made the most sales *in the most recent year available* (2014). (There is a column called `subtotal` - use that.) Sales that do not have an associated salesperson should be excluded from your calculations and final output. All orders that were made within the 2014 calendar year should be included.\n",
        "\n",
        "Your output should look like this:\n",
        "\n",
        "<table border=\"1\" class=\"dataframe\">  <thead>    <tr style=\"text-align: right;\">      <th>salespersonid</th>      <th>totalsales</th>    </tr>  </thead>  <tbody>    <tr>      <td>289</td>      <td>1382996.5839000002</td>    </tr>    <tr>      <td>276</td>      <td>1271088.5216</td>    </tr>    <tr>      <td>...</td>      <td>...</td>    </tr>  </tbody></table>\n",
        "\n",
        "**Hint:** You can use the syntax `WHERE column >= '1970-01-01'` to generate an arbitrary date in SQLite and compare this to specific dates in the tables (in this example, dates equal to or later than Jan 1, 1970). Additionally, when you want to make sure that columns with empty or null values are excluded from a query in SQLite, you have to add a line like this one to your `WHERE` statement: `my_column IS NOT NULL AND my_column <> \"\"`. The `<>` operator is the opposite of `=`, that is, it checks that two values are different from each other."
      ]
    },
    {
      "cell_type": "code",
      "execution_count": null,
      "metadata": {
        "deletable": false,
        "nbgrader": {
          "cell_type": "code",
          "checksum": "c361f30b855dbb8dc220bbfa4e0c1807",
          "grade": false,
          "grade_id": "cell-68fc837f4b1b6845",
          "locked": false,
          "schema_version": 3,
          "solution": true,
          "task": false
        },
        "id": "0wULCsMRpilW"
      },
      "outputs": [],
      "source": [
        "salesperson_totalsales=\"\"\"\n",
        "SELECT \n",
        "    salespersonid, SUM(subtotal) AS totalsales\n",
        "FROM \n",
        "    salesorderheader\n",
        "WHERE\n",
        "    orderdate >= '2014-01-01' AND salespersonid IS NOT NULL AND salespersonid <> \"\"\n",
        "GROUP BY\n",
        "    salespersonid\n",
        "ORDER BY\n",
        "    totalsales DESC\n",
        "LIMIT 5\n",
        "\"\"\"\n"
      ]
    },
    {
      "cell_type": "code",
      "execution_count": null,
      "metadata": {
        "id": "WKWkEfTOpilX",
        "outputId": "8274f23e-63a3-48b9-e3db-ded9cac81552"
      },
      "outputs": [
        {
          "name": "stdout",
          "output_type": "stream",
          "text": [
            " * sqlite:///AdventureWorks.db\n",
            "Done.\n"
          ]
        },
        {
          "data": {
            "text/html": [
              "<table>\n",
              "    <tr>\n",
              "        <th>salespersonid</th>\n",
              "        <th>totalsales</th>\n",
              "    </tr>\n",
              "    <tr>\n",
              "        <td>289</td>\n",
              "        <td>1382996.5839000002</td>\n",
              "    </tr>\n",
              "    <tr>\n",
              "        <td>276</td>\n",
              "        <td>1271088.5216</td>\n",
              "    </tr>\n",
              "    <tr>\n",
              "        <td>275</td>\n",
              "        <td>1057247.3786</td>\n",
              "    </tr>\n",
              "    <tr>\n",
              "        <td>282</td>\n",
              "        <td>1044810.8277000003</td>\n",
              "    </tr>\n",
              "    <tr>\n",
              "        <td>277</td>\n",
              "        <td>1040093.4071</td>\n",
              "    </tr>\n",
              "</table>"
            ],
            "text/plain": [
              "[(289, 1382996.5839000002),\n",
              " (276, 1271088.5216),\n",
              " (275, 1057247.3786),\n",
              " (282, 1044810.8277000003),\n",
              " (277, 1040093.4071)]"
            ]
          },
          "execution_count": 28,
          "metadata": {},
          "output_type": "execute_result"
        }
      ],
      "source": [
        "%%sql\n",
        "\n",
        "\n",
        "SELECT \n",
        "    salespersonid, SUM(subtotal) AS totalsales\n",
        "FROM \n",
        "    salesorderheader\n",
        "WHERE\n",
        "    orderdate >= '2014-01-01' AND salespersonid IS NOT NULL AND salespersonid <> \"\"\n",
        "GROUP BY\n",
        "    salespersonid\n",
        "ORDER BY\n",
        "    totalsales DESC\n",
        "LIMIT 5"
      ]
    },
    {
      "cell_type": "markdown",
      "metadata": {
        "deletable": false,
        "editable": false,
        "nbgrader": {
          "cell_type": "markdown",
          "checksum": "a8e572c734394afb31bb1f6df0cdf7c0",
          "grade": false,
          "grade_id": "cell-7c8496a8cb44e106",
          "locked": true,
          "schema_version": 3,
          "solution": false,
          "task": false
        },
        "id": "O-G-kMtqpilY"
      },
      "source": [
        "You should see right away that there are discrepancies between the two sales totals. This makes sense because we used filters in one table and not the other. Nonetheless, for the remainder of this case, use this dynamically-calculated total as the authoritative answer."
      ]
    },
    {
      "cell_type": "markdown",
      "metadata": {
        "deletable": false,
        "editable": false,
        "nbgrader": {
          "cell_type": "markdown",
          "checksum": "ecb30244b735d37be3462b3c6b9fec1d",
          "grade": false,
          "grade_id": "cell-b761fbb4e64566d0",
          "locked": true,
          "schema_version": 3,
          "solution": false,
          "task": false
        },
        "id": "bpD4Rp5UpilY"
      },
      "source": [
        "### Exercise 6\n",
        "\n",
        "Looking at the documentation, you will see that `subtotal` in the ```salesorderheader``` table is calculated from other tables in the database. To validate this figure (instead of trusting it blindly), it could be a good idea to calculate `subtotal` manually. Using the ```salesorderdetail``` and ```salesorderheader``` tables, let's calculate the sales for each salesperson for **the year 2014** and display results for the top 5 salespeople."
      ]
    },
    {
      "cell_type": "markdown",
      "metadata": {
        "deletable": false,
        "editable": false,
        "nbgrader": {
          "cell_type": "markdown",
          "checksum": "39a1adb6c5180b0bab09e52d8ff9d245",
          "grade": false,
          "grade_id": "cell-5062d286a906ff4a",
          "locked": true,
          "schema_version": 3,
          "solution": false,
          "task": false
        },
        "tags": [
          "6_min"
        ],
        "id": "lPlPe0UepilY"
      },
      "source": [
        "#### 6.1 (1 point)\n",
        "\n",
        "Write a query that shows for each `salesorderid` (find this column in the `salesorderdetail` table) the total amount of money paid. Remember to subtract `unitpricediscount` from each item's price (`unitpricediscount` is a percentage).\n",
        "\n",
        "Your output should look like this:\n",
        "\n",
        "| salesorderid \t| ordertotal \t|\n",
        "|-:\t|-:\t|\n",
        "| 43659 \t| 20565.6206 \t|\n",
        "| 43660 \t| 1294.2529 \t|\n",
        "| 43661 \t| 32726.4786 \t|\n",
        "| 43662 \t| 28832.5289 \t|\n",
        "| 43663 \t| 419.4589 \t|\n",
        "| 43664 \t| 24432.608799999995 \t|\n",
        "| 43665 \t| 14352.7713 \t|\n",
        "| 43666 \t| 5056.4896 \t|\n",
        "| 43667 \t| 6107.081999999999 \t|\n",
        "| 43668 \t| 35944.156200000005 \t|\n",
        "| 43669 \t| 714.7043 \t|\n",
        "| ... \t| ... \t|"
      ]
    },
    {
      "cell_type": "code",
      "execution_count": null,
      "metadata": {
        "deletable": false,
        "nbgrader": {
          "cell_type": "code",
          "checksum": "53fc0b832d8ae23bb75651c6eb5527d5",
          "grade": false,
          "grade_id": "cell-c3f883645865b45a",
          "locked": false,
          "schema_version": 3,
          "solution": true,
          "task": false
        },
        "id": "Q_oWmjR_pilY"
      },
      "outputs": [],
      "source": [
        "order_ordertotal=\"\"\"\n",
        "SELECT \n",
        "    salesorderid, sum(unitprice * (1 - unitpricediscount) * orderqty) AS ordertotal\n",
        "FROM \n",
        "    salesorderdetail\n",
        "GROUP BY \n",
        "    salesorderid\n",
        "\"\"\""
      ]
    },
    {
      "cell_type": "markdown",
      "metadata": {
        "deletable": false,
        "editable": false,
        "nbgrader": {
          "cell_type": "markdown",
          "checksum": "db766baf417aacafb3557f7aea10b799",
          "grade": false,
          "grade_id": "cell-c81af41db468149d",
          "locked": true,
          "schema_version": 3,
          "solution": false,
          "task": false
        },
        "tags": [
          "10_min"
        ],
        "id": "ceIKmPRapilZ"
      },
      "source": [
        "#### 6.2 (2 points)\n",
        "\n",
        "Using the previous query as a subquery, find the sales for each salesperson for the year 2014 and display results for the top 5 salespeople. Remember to exclude sales that are not associated with a salesperson.\n",
        "\n",
        "**Hint:** You can get the `salesorderid` and `salespersonid` pairs from the `salesorderheader` table."
      ]
    },
    {
      "cell_type": "code",
      "execution_count": null,
      "metadata": {
        "deletable": false,
        "nbgrader": {
          "cell_type": "code",
          "checksum": "c226d1058d4f5804383df781998e17fa",
          "grade": false,
          "grade_id": "cell-64628f235432b6ff",
          "locked": false,
          "schema_version": 3,
          "solution": true,
          "task": false
        },
        "id": "PZTeuseDpilZ"
      },
      "outputs": [],
      "source": [
        "salesperson_ordertotal=\"\"\"\n",
        "WITH a AS(\n",
        "    SELECT \n",
        "        salesorderid, sum(unitprice * (1 - unitpricediscount) * orderqty) AS ordertotal\n",
        "    FROM \n",
        "        salesorderdetail\n",
        "    GROUP BY \n",
        "        salesorderid\n",
        ")\n",
        "\n",
        "SELECT \n",
        "    salespersonid, SUM(subtotal) AS ordertotalsum\n",
        "FROM \n",
        "    salesorderheader\n",
        "INNER JOIN\n",
        "    a ON a.salesorderid = salesorderheader.salesorderid\n",
        "WHERE\n",
        "    orderdate >= '2014-01-01' AND salespersonid IS NOT NULL AND salespersonid <> \"\"\n",
        "GROUP BY\n",
        "    salespersonid\n",
        "ORDER BY\n",
        "    ordertotalsum DESC\n",
        "LIMIT 5\n",
        "\"\"\"\n"
      ]
    },
    {
      "cell_type": "code",
      "execution_count": null,
      "metadata": {
        "id": "trI-Ksl1pilZ",
        "outputId": "eb4da3a6-f791-4a00-ab8f-87b417e20270"
      },
      "outputs": [
        {
          "name": "stdout",
          "output_type": "stream",
          "text": [
            " * sqlite:///AdventureWorks.db\n",
            "Done.\n"
          ]
        },
        {
          "data": {
            "text/html": [
              "<table>\n",
              "    <tr>\n",
              "        <th>salespersonid</th>\n",
              "        <th>ordertotalsum</th>\n",
              "    </tr>\n",
              "    <tr>\n",
              "        <td>289</td>\n",
              "        <td>1382996.5839000002</td>\n",
              "    </tr>\n",
              "    <tr>\n",
              "        <td>276</td>\n",
              "        <td>1271088.5216</td>\n",
              "    </tr>\n",
              "    <tr>\n",
              "        <td>275</td>\n",
              "        <td>1057247.3786</td>\n",
              "    </tr>\n",
              "    <tr>\n",
              "        <td>282</td>\n",
              "        <td>1044810.8277000003</td>\n",
              "    </tr>\n",
              "    <tr>\n",
              "        <td>277</td>\n",
              "        <td>1040093.4071</td>\n",
              "    </tr>\n",
              "</table>"
            ],
            "text/plain": [
              "[(289, 1382996.5839000002),\n",
              " (276, 1271088.5216),\n",
              " (275, 1057247.3786),\n",
              " (282, 1044810.8277000003),\n",
              " (277, 1040093.4071)]"
            ]
          },
          "execution_count": 32,
          "metadata": {},
          "output_type": "execute_result"
        }
      ],
      "source": [
        "%%sql\n",
        "\n",
        "WITH a AS(\n",
        "    SELECT \n",
        "        salesorderid, sum(unitprice * (1 - unitpricediscount) * orderqty) AS ordertotal\n",
        "    FROM \n",
        "        salesorderdetail\n",
        "    GROUP BY \n",
        "        salesorderid\n",
        ")\n",
        "\n",
        "SELECT \n",
        "    salespersonid, SUM(subtotal) AS ordertotalsum\n",
        "FROM \n",
        "    salesorderheader\n",
        "INNER JOIN\n",
        "    a ON a.salesorderid = salesorderheader.salesorderid\n",
        "WHERE\n",
        "    orderdate >= '2014-01-01' AND salespersonid IS NOT NULL AND salespersonid <> \"\"\n",
        "GROUP BY\n",
        "    salespersonid\n",
        "ORDER BY\n",
        "    ordertotalsum DESC\n",
        "LIMIT 5\n",
        "\n",
        "\n",
        "\n"
      ]
    },
    {
      "cell_type": "markdown",
      "metadata": {
        "deletable": false,
        "editable": false,
        "nbgrader": {
          "cell_type": "markdown",
          "checksum": "b8940565d3e14b0dfbc69c8bfd1559e2",
          "grade": false,
          "grade_id": "cell-efd2ead50c5bf994",
          "locked": true,
          "schema_version": 3,
          "solution": false,
          "task": false
        },
        "id": "zT1Gr_p5pila"
      },
      "source": [
        "The results are the same as Exercise 5. We still prefer this query though because it is generated from granular data instead of relying on hard-coded figures."
      ]
    },
    {
      "cell_type": "markdown",
      "metadata": {
        "deletable": false,
        "editable": false,
        "nbgrader": {
          "cell_type": "markdown",
          "checksum": "025386e8704ccda1cf3bee0ab293af6e",
          "grade": false,
          "grade_id": "cell-d2882e4f911b9ddb",
          "locked": true,
          "schema_version": 3,
          "solution": false,
          "task": false
        },
        "tags": [
          "10_min"
        ],
        "id": "BqcVali6pila"
      },
      "source": [
        "### Exercise 7 (3 points)\n",
        "\n",
        "Let's now see whether there is a positive relationship between the total sales of the salespeople and their commission percentages. Join the previous query (remove the `LIMIT` clause) with the `salesperson` table to get a table like this one:\n",
        "\n",
        "| salespersonid \t| ordertotalsum \t| commissionpct \t|\n",
        "|-:\t|-:\t|-:\t|\n",
        "| 274 \t| 178584.36250800002 \t| 0.0 \t|\n",
        "| 275 \t| 1057247.378572 \t| 0.012 \t|\n",
        "| 276 \t| 1271088.5214610002 \t| 0.015 \t|\n",
        "| 277 \t| 1040093.406901 \t| 0.015 \t|\n",
        "| ... \t| ... \t| ... \t|\n",
        "\n",
        "**Hint:** Remember that the `businessentityid` column from the `salesperson` is compatible with the `salespersonid` column in the query of exercise 6 (they both represent the salesperson ID)."
      ]
    },
    {
      "cell_type": "code",
      "execution_count": null,
      "metadata": {
        "deletable": false,
        "nbgrader": {
          "cell_type": "code",
          "checksum": "74afcbd94ce93642d41f4ed1d823850f",
          "grade": false,
          "grade_id": "cell-7c9e7c90b8e13ecb",
          "locked": false,
          "schema_version": 3,
          "solution": true,
          "task": false
        },
        "id": "n6rsWrk0pila"
      },
      "outputs": [],
      "source": [
        "salesperson_ordertotal_commission=\"\"\"\n",
        "WITH a AS(\n",
        "    SELECT \n",
        "        salesorderid, sum(unitprice * (1 - unitpricediscount) * orderqty) AS ordertotal\n",
        "    FROM \n",
        "        salesorderdetail\n",
        "    GROUP BY \n",
        "        salesorderid\n",
        "),\n",
        "b AS(\n",
        "    SELECT \n",
        "        businessentityid, commissionpct\n",
        "    FROM\n",
        "        salesperson\n",
        ")\n",
        "\n",
        "SELECT \n",
        "    salespersonid, SUM(subtotal) AS ordertotalsum, b.commissionpct\n",
        "FROM \n",
        "    salesorderheader\n",
        "INNER JOIN\n",
        "    a ON a.salesorderid = salesorderheader.salesorderid\n",
        "INNER JOIN\n",
        "    b ON b.businessentityid = salesorderheader.salespersonid\n",
        "\n",
        "WHERE\n",
        "    orderdate >= '2014-01-01' AND salespersonid IS NOT NULL AND salespersonid <> \"\"\n",
        "GROUP BY\n",
        "    salespersonid\n",
        "ORDER BY\n",
        "    salespersonid\n",
        "\"\"\"\n"
      ]
    },
    {
      "cell_type": "code",
      "execution_count": null,
      "metadata": {
        "id": "JOzCTzEGpila",
        "outputId": "52674652-4980-443f-e678-944eb1b01488"
      },
      "outputs": [
        {
          "name": "stdout",
          "output_type": "stream",
          "text": [
            " * sqlite:///AdventureWorks.db\n",
            "Done.\n"
          ]
        },
        {
          "data": {
            "text/html": [
              "<table>\n",
              "    <tr>\n",
              "        <th>salespersonid</th>\n",
              "        <th>ordertotalsum</th>\n",
              "        <th>commissionpct</th>\n",
              "    </tr>\n",
              "    <tr>\n",
              "        <td>274</td>\n",
              "        <td>178584.3625</td>\n",
              "        <td>0.0</td>\n",
              "    </tr>\n",
              "    <tr>\n",
              "        <td>275</td>\n",
              "        <td>1057247.3786</td>\n",
              "        <td>0.012</td>\n",
              "    </tr>\n",
              "    <tr>\n",
              "        <td>276</td>\n",
              "        <td>1271088.5216</td>\n",
              "        <td>0.015</td>\n",
              "    </tr>\n",
              "    <tr>\n",
              "        <td>277</td>\n",
              "        <td>1040093.4071</td>\n",
              "        <td>0.015</td>\n",
              "    </tr>\n",
              "    <tr>\n",
              "        <td>278</td>\n",
              "        <td>435948.9550999999</td>\n",
              "        <td>0.01</td>\n",
              "    </tr>\n",
              "    <tr>\n",
              "        <td>279</td>\n",
              "        <td>787204.4288999998</td>\n",
              "        <td>0.01</td>\n",
              "    </tr>\n",
              "    <tr>\n",
              "        <td>280</td>\n",
              "        <td>504932.04399999994</td>\n",
              "        <td>0.01</td>\n",
              "    </tr>\n",
              "    <tr>\n",
              "        <td>281</td>\n",
              "        <td>777941.6518999999</td>\n",
              "        <td>0.01</td>\n",
              "    </tr>\n",
              "    <tr>\n",
              "        <td>282</td>\n",
              "        <td>1044810.8277000003</td>\n",
              "        <td>0.015</td>\n",
              "    </tr>\n",
              "    <tr>\n",
              "        <td>283</td>\n",
              "        <td>490466.319</td>\n",
              "        <td>0.012</td>\n",
              "    </tr>\n",
              "    <tr>\n",
              "        <td>284</td>\n",
              "        <td>600997.1703999998</td>\n",
              "        <td>0.019</td>\n",
              "    </tr>\n",
              "    <tr>\n",
              "        <td>285</td>\n",
              "        <td>21267.336</td>\n",
              "        <td>0.0</td>\n",
              "    </tr>\n",
              "    <tr>\n",
              "        <td>286</td>\n",
              "        <td>585755.8006</td>\n",
              "        <td>0.018</td>\n",
              "    </tr>\n",
              "    <tr>\n",
              "        <td>287</td>\n",
              "        <td>56637.747800000005</td>\n",
              "        <td>0.0</td>\n",
              "    </tr>\n",
              "    <tr>\n",
              "        <td>288</td>\n",
              "        <td>581607.9321000001</td>\n",
              "        <td>0.018</td>\n",
              "    </tr>\n",
              "    <tr>\n",
              "        <td>289</td>\n",
              "        <td>1382996.5839000002</td>\n",
              "        <td>0.02</td>\n",
              "    </tr>\n",
              "    <tr>\n",
              "        <td>290</td>\n",
              "        <td>867518.6141</td>\n",
              "        <td>0.016</td>\n",
              "    </tr>\n",
              "</table>"
            ],
            "text/plain": [
              "[(274, 178584.3625, 0.0),\n",
              " (275, 1057247.3786, 0.012),\n",
              " (276, 1271088.5216, 0.015),\n",
              " (277, 1040093.4071, 0.015),\n",
              " (278, 435948.9550999999, 0.01),\n",
              " (279, 787204.4288999998, 0.01),\n",
              " (280, 504932.04399999994, 0.01),\n",
              " (281, 777941.6518999999, 0.01),\n",
              " (282, 1044810.8277000003, 0.015),\n",
              " (283, 490466.319, 0.012),\n",
              " (284, 600997.1703999998, 0.019),\n",
              " (285, 21267.336, 0.0),\n",
              " (286, 585755.8006, 0.018),\n",
              " (287, 56637.747800000005, 0.0),\n",
              " (288, 581607.9321000001, 0.018),\n",
              " (289, 1382996.5839000002, 0.02),\n",
              " (290, 867518.6141, 0.016)]"
            ]
          },
          "execution_count": 34,
          "metadata": {},
          "output_type": "execute_result"
        }
      ],
      "source": [
        "%%sql\n",
        "\n",
        "WITH a AS(\n",
        "    SELECT \n",
        "        salesorderid, sum(unitprice * (1 - unitpricediscount) * orderqty) AS ordertotal\n",
        "    FROM \n",
        "        salesorderdetail\n",
        "    GROUP BY \n",
        "        salesorderid\n",
        "),\n",
        "b AS(\n",
        "    SELECT \n",
        "        businessentityid, commissionpct\n",
        "    FROM\n",
        "        salesperson\n",
        ")\n",
        "\n",
        "SELECT \n",
        "    salespersonid, SUM(subtotal) AS ordertotalsum, b.commissionpct\n",
        "FROM \n",
        "    salesorderheader\n",
        "INNER JOIN\n",
        "    a ON a.salesorderid = salesorderheader.salesorderid\n",
        "INNER JOIN\n",
        "    b ON b.businessentityid = salesorderheader.salespersonid\n",
        "\n",
        "WHERE\n",
        "    orderdate >= '2014-01-01' AND salespersonid IS NOT NULL AND salespersonid <> \"\"\n",
        "GROUP BY\n",
        "    salespersonid\n",
        "ORDER BY\n",
        "    salespersonid"
      ]
    },
    {
      "cell_type": "markdown",
      "metadata": {
        "deletable": false,
        "editable": false,
        "nbgrader": {
          "cell_type": "markdown",
          "checksum": "2e947d9b22dabbae2348cd444db33741",
          "grade": false,
          "grade_id": "cell-dbaf5872225fb1ab",
          "locked": true,
          "schema_version": 3,
          "solution": false,
          "task": false
        },
        "id": "invCMWBLpilb"
      },
      "source": [
        "The correlation coefficient between `ordertotalsum` and `commissionpct` is $\\rho=0.73$. This suggests that the salespeople who earn a high commission are also those who close the bigger deals."
      ]
    },
    {
      "cell_type": "markdown",
      "metadata": {
        "deletable": false,
        "editable": false,
        "nbgrader": {
          "cell_type": "markdown",
          "checksum": "7843cb722f4e5554e0102da7a7e9adcc",
          "grade": false,
          "grade_id": "cell-bb851e5a0ca68a66",
          "locked": true,
          "schema_version": 3,
          "solution": false,
          "task": false
        },
        "id": "VPYUDKO1pilb"
      },
      "source": [
        "## Exercise 8 \n",
        "\n",
        "Remember how we mentioned that products were sold in many regions? This is why you had to work with the `culture` value before to get the English language descriptions. To make matters worse, you are told the sales are recorded in *local* currency, so your previous analyses are flawed. Technically, you must convert all amounts to USD if you wish to compare the different salespeople fairly! Instead, let's group the salespeople orders by the currency used for each order (you will have to consider `tocurrencyrate` for this task in the `CurrencyRate` table). \n",
        "\n",
        "Let's explore the currencies in different sales. But first, here are some things to understand about the currency columns:\n",
        "* The `FromCurrencyCode` is all USD, so focus on `tocurrencyrate`\n",
        "* If the sale was paid in USD, the `currencyrateid` was left blank (since there was no need to make a conversion)\n",
        "\n",
        "#### 8.1 (1 point)\n",
        "\n",
        "Create a table with the `salespersonid`, `salesorderid`, `currencyrateid` and `tocurrencycode` to see the connection. Remember to exclude sales that are not associated with a salesperson and only consider sales in 2014. Order by the salesperson ID and show only 10 rows. Your table should look like this\n",
        "\n",
        "| salespersonid \t| salesorderid\t| currencyrateid\t|tocurrencycode   |\n",
        "|-:\t|-:\t|-:\t|-: |\n",
        "| 274 \t| 65294 \t| None \t| None |\n",
        "| 274 \t| 65298 \t| None \t| None |\n",
        "| 274 \t| 67277 \t| None \t| None |\n",
        "| 274 \t| 67286\t \t| 11427\t \t| CAD |\n",
        "| 274 \t| 69528\t\t \t| None\t| None |\n",
        "| ... \t| ... \t| ... \t| ...    |\n",
        "\n",
        "**Hint**: Since `USD` would not show up in the **CurrencyRate** table, you will have to do a `LEFT JOIN` to avoid losing information. "
      ]
    },
    {
      "cell_type": "code",
      "execution_count": null,
      "metadata": {
        "deletable": false,
        "nbgrader": {
          "cell_type": "code",
          "checksum": "bceb9eb0f8e28a121e0ed346017f8771",
          "grade": false,
          "grade_id": "cell-c6e66c75be07e7c3",
          "locked": false,
          "schema_version": 3,
          "solution": true,
          "task": false
        },
        "id": "_MkkLWDdpilb"
      },
      "outputs": [],
      "source": [
        "salesperson_currency_id=\"\"\"\n",
        "WITH a AS(\n",
        "    SELECT \n",
        "        currencyrateid, tocurrencycode\n",
        "    FROM \n",
        "        currencyrate\n",
        ")\n",
        "SELECT \n",
        "    salespersonid, salesorderid, a.currencyrateid, a.tocurrencycode\n",
        "FROM \n",
        "    salesorderheader\n",
        "LEFT JOIN\n",
        "    a ON a.currencyrateid = salesorderheader.currencyrateid\n",
        "WHERE\n",
        "    orderdate >= '2014-01-01' AND salespersonid IS NOT NULL AND salespersonid <> \"\"\n",
        "ORDER BY\n",
        "    salespersonid\n",
        "LIMIT 10\n",
        "\"\"\"\n"
      ]
    },
    {
      "cell_type": "code",
      "execution_count": null,
      "metadata": {
        "scrolled": true,
        "id": "QtOqnppupilc",
        "outputId": "45b40d64-d016-4290-af1d-a64c4e1e38af"
      },
      "outputs": [
        {
          "name": "stdout",
          "output_type": "stream",
          "text": [
            " * sqlite:///AdventureWorks.db\n",
            "Done.\n"
          ]
        },
        {
          "data": {
            "text/html": [
              "<table>\n",
              "    <tr>\n",
              "        <th>salesorderid</th>\n",
              "        <th>revisionnumber</th>\n",
              "        <th>orderdate</th>\n",
              "        <th>duedate</th>\n",
              "        <th>shipdate</th>\n",
              "        <th>STATUS</th>\n",
              "        <th>onlineorderflag</th>\n",
              "        <th>purchaseordernumber</th>\n",
              "        <th>accountnumber</th>\n",
              "        <th>customerid</th>\n",
              "        <th>salespersonid</th>\n",
              "        <th>territoryid</th>\n",
              "        <th>billtoaddressid</th>\n",
              "        <th>shiptoaddressid</th>\n",
              "        <th>shipmethodid</th>\n",
              "        <th>creditcardid</th>\n",
              "        <th>creditcardapprovalcode</th>\n",
              "        <th>currencyrateid</th>\n",
              "        <th>subtotal</th>\n",
              "        <th>taxamt</th>\n",
              "        <th>freight</th>\n",
              "        <th>totaldue</th>\n",
              "        <th>comment</th>\n",
              "        <th>rowguid</th>\n",
              "        <th>modifieddate</th>\n",
              "    </tr>\n",
              "    <tr>\n",
              "        <td>43659</td>\n",
              "        <td>8</td>\n",
              "        <td>2011-05-31 00:00:00</td>\n",
              "        <td>2011-06-12 00:00:00</td>\n",
              "        <td>2011-06-07 00:00:00</td>\n",
              "        <td>5</td>\n",
              "        <td>f</td>\n",
              "        <td>PO522145787</td>\n",
              "        <td>10-4020-000676</td>\n",
              "        <td>29825</td>\n",
              "        <td>279</td>\n",
              "        <td>5</td>\n",
              "        <td>985</td>\n",
              "        <td>985</td>\n",
              "        <td>5</td>\n",
              "        <td>16281</td>\n",
              "        <td>105041Vi84182</td>\n",
              "        <td></td>\n",
              "        <td>20565.6206</td>\n",
              "        <td>1971.5149</td>\n",
              "        <td>616.0984</td>\n",
              "        <td>23153.2339</td>\n",
              "        <td></td>\n",
              "        <td>79b65321-39ca-4115-9cba-8fe0903e12e6</td>\n",
              "        <td>2011-06-07 00:00:00</td>\n",
              "    </tr>\n",
              "    <tr>\n",
              "        <td>43660</td>\n",
              "        <td>8</td>\n",
              "        <td>2011-05-31 00:00:00</td>\n",
              "        <td>2011-06-12 00:00:00</td>\n",
              "        <td>2011-06-07 00:00:00</td>\n",
              "        <td>5</td>\n",
              "        <td>f</td>\n",
              "        <td>PO18850127500</td>\n",
              "        <td>10-4020-000117</td>\n",
              "        <td>29672</td>\n",
              "        <td>279</td>\n",
              "        <td>5</td>\n",
              "        <td>921</td>\n",
              "        <td>921</td>\n",
              "        <td>5</td>\n",
              "        <td>5618</td>\n",
              "        <td>115213Vi29411</td>\n",
              "        <td></td>\n",
              "        <td>1294.2529</td>\n",
              "        <td>124.2483</td>\n",
              "        <td>38.8276</td>\n",
              "        <td>1457.3288</td>\n",
              "        <td></td>\n",
              "        <td>738dc42d-d03b-48a1-9822-f95a67ea7389</td>\n",
              "        <td>2011-06-07 00:00:00</td>\n",
              "    </tr>\n",
              "    <tr>\n",
              "        <td>43661</td>\n",
              "        <td>8</td>\n",
              "        <td>2011-05-31 00:00:00</td>\n",
              "        <td>2011-06-12 00:00:00</td>\n",
              "        <td>2011-06-07 00:00:00</td>\n",
              "        <td>5</td>\n",
              "        <td>f</td>\n",
              "        <td>PO18473189620</td>\n",
              "        <td>10-4020-000442</td>\n",
              "        <td>29734</td>\n",
              "        <td>282</td>\n",
              "        <td>6</td>\n",
              "        <td>517</td>\n",
              "        <td>517</td>\n",
              "        <td>5</td>\n",
              "        <td>1346</td>\n",
              "        <td>85274Vi6854</td>\n",
              "        <td>4</td>\n",
              "        <td>32726.4786</td>\n",
              "        <td>3153.7696</td>\n",
              "        <td>985.553</td>\n",
              "        <td>36865.8012</td>\n",
              "        <td></td>\n",
              "        <td>d91b9131-18a4-4a11-bc3a-90b6f53e9d74</td>\n",
              "        <td>2011-06-07 00:00:00</td>\n",
              "    </tr>\n",
              "    <tr>\n",
              "        <td>43662</td>\n",
              "        <td>8</td>\n",
              "        <td>2011-05-31 00:00:00</td>\n",
              "        <td>2011-06-12 00:00:00</td>\n",
              "        <td>2011-06-07 00:00:00</td>\n",
              "        <td>5</td>\n",
              "        <td>f</td>\n",
              "        <td>PO18444174044</td>\n",
              "        <td>10-4020-000227</td>\n",
              "        <td>29994</td>\n",
              "        <td>282</td>\n",
              "        <td>6</td>\n",
              "        <td>482</td>\n",
              "        <td>482</td>\n",
              "        <td>5</td>\n",
              "        <td>10456</td>\n",
              "        <td>125295Vi53935</td>\n",
              "        <td>4</td>\n",
              "        <td>28832.5289</td>\n",
              "        <td>2775.1646</td>\n",
              "        <td>867.2389</td>\n",
              "        <td>32474.9324</td>\n",
              "        <td></td>\n",
              "        <td>4a1ecfc0-cc3a-4740-b028-1c50bb48711c</td>\n",
              "        <td>2011-06-07 00:00:00</td>\n",
              "    </tr>\n",
              "    <tr>\n",
              "        <td>43663</td>\n",
              "        <td>8</td>\n",
              "        <td>2011-05-31 00:00:00</td>\n",
              "        <td>2011-06-12 00:00:00</td>\n",
              "        <td>2011-06-07 00:00:00</td>\n",
              "        <td>5</td>\n",
              "        <td>f</td>\n",
              "        <td>PO18009186470</td>\n",
              "        <td>10-4020-000510</td>\n",
              "        <td>29565</td>\n",
              "        <td>276</td>\n",
              "        <td>4</td>\n",
              "        <td>1073</td>\n",
              "        <td>1073</td>\n",
              "        <td>5</td>\n",
              "        <td>4322</td>\n",
              "        <td>45303Vi22691</td>\n",
              "        <td></td>\n",
              "        <td>419.4589</td>\n",
              "        <td>40.2681</td>\n",
              "        <td>12.5838</td>\n",
              "        <td>472.3108</td>\n",
              "        <td></td>\n",
              "        <td>9b1e7a40-6ae0-4ad3-811c-a64951857c4b</td>\n",
              "        <td>2011-06-07 00:00:00</td>\n",
              "    </tr>\n",
              "    <tr>\n",
              "        <td>43664</td>\n",
              "        <td>8</td>\n",
              "        <td>2011-05-31 00:00:00</td>\n",
              "        <td>2011-06-12 00:00:00</td>\n",
              "        <td>2011-06-07 00:00:00</td>\n",
              "        <td>5</td>\n",
              "        <td>f</td>\n",
              "        <td>PO16617121983</td>\n",
              "        <td>10-4020-000397</td>\n",
              "        <td>29898</td>\n",
              "        <td>280</td>\n",
              "        <td>1</td>\n",
              "        <td>876</td>\n",
              "        <td>876</td>\n",
              "        <td>5</td>\n",
              "        <td>806</td>\n",
              "        <td>95555Vi4081</td>\n",
              "        <td></td>\n",
              "        <td>24432.6088</td>\n",
              "        <td>2344.9921</td>\n",
              "        <td>732.81</td>\n",
              "        <td>27510.4109</td>\n",
              "        <td></td>\n",
              "        <td>22a8a5da-8c22-42ad-9241-839489b6ef0d</td>\n",
              "        <td>2011-06-07 00:00:00</td>\n",
              "    </tr>\n",
              "    <tr>\n",
              "        <td>43665</td>\n",
              "        <td>8</td>\n",
              "        <td>2011-05-31 00:00:00</td>\n",
              "        <td>2011-06-12 00:00:00</td>\n",
              "        <td>2011-06-07 00:00:00</td>\n",
              "        <td>5</td>\n",
              "        <td>f</td>\n",
              "        <td>PO16588191572</td>\n",
              "        <td>10-4020-000146</td>\n",
              "        <td>29580</td>\n",
              "        <td>283</td>\n",
              "        <td>1</td>\n",
              "        <td>849</td>\n",
              "        <td>849</td>\n",
              "        <td>5</td>\n",
              "        <td>15232</td>\n",
              "        <td>35568Vi78804</td>\n",
              "        <td></td>\n",
              "        <td>14352.7713</td>\n",
              "        <td>1375.9427</td>\n",
              "        <td>429.9821</td>\n",
              "        <td>16158.6961</td>\n",
              "        <td></td>\n",
              "        <td>5602c304-853c-43d7-9e79-76e320d476cf</td>\n",
              "        <td>2011-06-07 00:00:00</td>\n",
              "    </tr>\n",
              "    <tr>\n",
              "        <td>43666</td>\n",
              "        <td>8</td>\n",
              "        <td>2011-05-31 00:00:00</td>\n",
              "        <td>2011-06-12 00:00:00</td>\n",
              "        <td>2011-06-07 00:00:00</td>\n",
              "        <td>5</td>\n",
              "        <td>f</td>\n",
              "        <td>PO16008173883</td>\n",
              "        <td>10-4020-000511</td>\n",
              "        <td>30052</td>\n",
              "        <td>276</td>\n",
              "        <td>4</td>\n",
              "        <td>1074</td>\n",
              "        <td>1074</td>\n",
              "        <td>5</td>\n",
              "        <td>13349</td>\n",
              "        <td>105623Vi69217</td>\n",
              "        <td></td>\n",
              "        <td>5056.4896</td>\n",
              "        <td>486.3747</td>\n",
              "        <td>151.9921</td>\n",
              "        <td>5694.8564</td>\n",
              "        <td></td>\n",
              "        <td>e2a90057-1366-4487-8a7e-8085845ff770</td>\n",
              "        <td>2011-06-07 00:00:00</td>\n",
              "    </tr>\n",
              "    <tr>\n",
              "        <td>43667</td>\n",
              "        <td>8</td>\n",
              "        <td>2011-05-31 00:00:00</td>\n",
              "        <td>2011-06-12 00:00:00</td>\n",
              "        <td>2011-06-07 00:00:00</td>\n",
              "        <td>5</td>\n",
              "        <td>f</td>\n",
              "        <td>PO15428132599</td>\n",
              "        <td>10-4020-000646</td>\n",
              "        <td>29974</td>\n",
              "        <td>277</td>\n",
              "        <td>3</td>\n",
              "        <td>629</td>\n",
              "        <td>629</td>\n",
              "        <td>5</td>\n",
              "        <td>10370</td>\n",
              "        <td>55680Vi53503</td>\n",
              "        <td></td>\n",
              "        <td>6107.082</td>\n",
              "        <td>586.1203</td>\n",
              "        <td>183.1626</td>\n",
              "        <td>6876.3649</td>\n",
              "        <td></td>\n",
              "        <td>86d5237d-432d-4b21-8abc-671942f5789d</td>\n",
              "        <td>2011-06-07 00:00:00</td>\n",
              "    </tr>\n",
              "    <tr>\n",
              "        <td>43668</td>\n",
              "        <td>8</td>\n",
              "        <td>2011-05-31 00:00:00</td>\n",
              "        <td>2011-06-12 00:00:00</td>\n",
              "        <td>2011-06-07 00:00:00</td>\n",
              "        <td>5</td>\n",
              "        <td>f</td>\n",
              "        <td>PO14732180295</td>\n",
              "        <td>10-4020-000514</td>\n",
              "        <td>29614</td>\n",
              "        <td>282</td>\n",
              "        <td>6</td>\n",
              "        <td>529</td>\n",
              "        <td>529</td>\n",
              "        <td>5</td>\n",
              "        <td>1566</td>\n",
              "        <td>85817Vi8045</td>\n",
              "        <td>4</td>\n",
              "        <td>35944.1562</td>\n",
              "        <td>3461.7654</td>\n",
              "        <td>1081.8017</td>\n",
              "        <td>40487.7233</td>\n",
              "        <td></td>\n",
              "        <td>281cc355-d538-494e-9b44-461b36a826c6</td>\n",
              "        <td>2011-06-07 00:00:00</td>\n",
              "    </tr>\n",
              "</table>"
            ],
            "text/plain": [
              "[(43659, 8, '2011-05-31 00:00:00', '2011-06-12 00:00:00', '2011-06-07 00:00:00', '5', 'f', 'PO522145787', '10-4020-000676', 29825, 279, 5, 985, 985, 5, 16281, '105041Vi84182', '', 20565.6206, 1971.5149, 616.0984, 23153.2339, '', '79b65321-39ca-4115-9cba-8fe0903e12e6', '2011-06-07 00:00:00'),\n",
              " (43660, 8, '2011-05-31 00:00:00', '2011-06-12 00:00:00', '2011-06-07 00:00:00', '5', 'f', 'PO18850127500', '10-4020-000117', 29672, 279, 5, 921, 921, 5, 5618, '115213Vi29411', '', 1294.2529, 124.2483, 38.8276, 1457.3288, '', '738dc42d-d03b-48a1-9822-f95a67ea7389', '2011-06-07 00:00:00'),\n",
              " (43661, 8, '2011-05-31 00:00:00', '2011-06-12 00:00:00', '2011-06-07 00:00:00', '5', 'f', 'PO18473189620', '10-4020-000442', 29734, 282, 6, 517, 517, 5, 1346, '85274Vi6854', 4, 32726.4786, 3153.7696, 985.553, 36865.8012, '', 'd91b9131-18a4-4a11-bc3a-90b6f53e9d74', '2011-06-07 00:00:00'),\n",
              " (43662, 8, '2011-05-31 00:00:00', '2011-06-12 00:00:00', '2011-06-07 00:00:00', '5', 'f', 'PO18444174044', '10-4020-000227', 29994, 282, 6, 482, 482, 5, 10456, '125295Vi53935', 4, 28832.5289, 2775.1646, 867.2389, 32474.9324, '', '4a1ecfc0-cc3a-4740-b028-1c50bb48711c', '2011-06-07 00:00:00'),\n",
              " (43663, 8, '2011-05-31 00:00:00', '2011-06-12 00:00:00', '2011-06-07 00:00:00', '5', 'f', 'PO18009186470', '10-4020-000510', 29565, 276, 4, 1073, 1073, 5, 4322, '45303Vi22691', '', 419.4589, 40.2681, 12.5838, 472.3108, '', '9b1e7a40-6ae0-4ad3-811c-a64951857c4b', '2011-06-07 00:00:00'),\n",
              " (43664, 8, '2011-05-31 00:00:00', '2011-06-12 00:00:00', '2011-06-07 00:00:00', '5', 'f', 'PO16617121983', '10-4020-000397', 29898, 280, 1, 876, 876, 5, 806, '95555Vi4081', '', 24432.6088, 2344.9921, 732.81, 27510.4109, '', '22a8a5da-8c22-42ad-9241-839489b6ef0d', '2011-06-07 00:00:00'),\n",
              " (43665, 8, '2011-05-31 00:00:00', '2011-06-12 00:00:00', '2011-06-07 00:00:00', '5', 'f', 'PO16588191572', '10-4020-000146', 29580, 283, 1, 849, 849, 5, 15232, '35568Vi78804', '', 14352.7713, 1375.9427, 429.9821, 16158.6961, '', '5602c304-853c-43d7-9e79-76e320d476cf', '2011-06-07 00:00:00'),\n",
              " (43666, 8, '2011-05-31 00:00:00', '2011-06-12 00:00:00', '2011-06-07 00:00:00', '5', 'f', 'PO16008173883', '10-4020-000511', 30052, 276, 4, 1074, 1074, 5, 13349, '105623Vi69217', '', 5056.4896, 486.3747, 151.9921, 5694.8564, '', 'e2a90057-1366-4487-8a7e-8085845ff770', '2011-06-07 00:00:00'),\n",
              " (43667, 8, '2011-05-31 00:00:00', '2011-06-12 00:00:00', '2011-06-07 00:00:00', '5', 'f', 'PO15428132599', '10-4020-000646', 29974, 277, 3, 629, 629, 5, 10370, '55680Vi53503', '', 6107.082, 586.1203, 183.1626, 6876.3649, '', '86d5237d-432d-4b21-8abc-671942f5789d', '2011-06-07 00:00:00'),\n",
              " (43668, 8, '2011-05-31 00:00:00', '2011-06-12 00:00:00', '2011-06-07 00:00:00', '5', 'f', 'PO14732180295', '10-4020-000514', 29614, 282, 6, 529, 529, 5, 1566, '85817Vi8045', 4, 35944.1562, 3461.7654, 1081.8017, 40487.7233, '', '281cc355-d538-494e-9b44-461b36a826c6', '2011-06-07 00:00:00')]"
            ]
          },
          "execution_count": 36,
          "metadata": {},
          "output_type": "execute_result"
        }
      ],
      "source": [
        "%%sql\n",
        "\n",
        "SELECT *\n",
        "FROM salesorderheader\n",
        "LIMIT 10"
      ]
    },
    {
      "cell_type": "code",
      "execution_count": null,
      "metadata": {
        "id": "kUuhcyV4pilc",
        "outputId": "2762e8fe-50c9-443c-b60f-60735b42b180"
      },
      "outputs": [
        {
          "name": "stdout",
          "output_type": "stream",
          "text": [
            " * sqlite:///AdventureWorks.db\n",
            "Done.\n"
          ]
        },
        {
          "data": {
            "text/html": [
              "<table>\n",
              "    <tr>\n",
              "        <th>salespersonid</th>\n",
              "        <th>salesorderid</th>\n",
              "        <th>currencyrateid</th>\n",
              "        <th>tocurrencycode</th>\n",
              "    </tr>\n",
              "    <tr>\n",
              "        <td>274</td>\n",
              "        <td>65294</td>\n",
              "        <td>None</td>\n",
              "        <td>None</td>\n",
              "    </tr>\n",
              "    <tr>\n",
              "        <td>274</td>\n",
              "        <td>65298</td>\n",
              "        <td>None</td>\n",
              "        <td>None</td>\n",
              "    </tr>\n",
              "    <tr>\n",
              "        <td>274</td>\n",
              "        <td>67277</td>\n",
              "        <td>None</td>\n",
              "        <td>None</td>\n",
              "    </tr>\n",
              "    <tr>\n",
              "        <td>274</td>\n",
              "        <td>67286</td>\n",
              "        <td>11427</td>\n",
              "        <td>CAD</td>\n",
              "    </tr>\n",
              "    <tr>\n",
              "        <td>274</td>\n",
              "        <td>69528</td>\n",
              "        <td>None</td>\n",
              "        <td>None</td>\n",
              "    </tr>\n",
              "    <tr>\n",
              "        <td>274</td>\n",
              "        <td>69545</td>\n",
              "        <td>None</td>\n",
              "        <td>None</td>\n",
              "    </tr>\n",
              "    <tr>\n",
              "        <td>274</td>\n",
              "        <td>71779</td>\n",
              "        <td>None</td>\n",
              "        <td>None</td>\n",
              "    </tr>\n",
              "    <tr>\n",
              "        <td>274</td>\n",
              "        <td>71919</td>\n",
              "        <td>None</td>\n",
              "        <td>None</td>\n",
              "    </tr>\n",
              "    <tr>\n",
              "        <td>275</td>\n",
              "        <td>65205</td>\n",
              "        <td>None</td>\n",
              "        <td>None</td>\n",
              "    </tr>\n",
              "    <tr>\n",
              "        <td>275</td>\n",
              "        <td>65215</td>\n",
              "        <td>None</td>\n",
              "        <td>None</td>\n",
              "    </tr>\n",
              "</table>"
            ],
            "text/plain": [
              "[(274, 65294, None, None),\n",
              " (274, 65298, None, None),\n",
              " (274, 67277, None, None),\n",
              " (274, 67286, 11427, 'CAD'),\n",
              " (274, 69528, None, None),\n",
              " (274, 69545, None, None),\n",
              " (274, 71779, None, None),\n",
              " (274, 71919, None, None),\n",
              " (275, 65205, None, None),\n",
              " (275, 65215, None, None)]"
            ]
          },
          "execution_count": 37,
          "metadata": {},
          "output_type": "execute_result"
        }
      ],
      "source": [
        "%%sql\n",
        "\n",
        "WITH a AS(\n",
        "    SELECT \n",
        "        currencyrateid, tocurrencycode\n",
        "    FROM \n",
        "        currencyrate\n",
        ")\n",
        "SELECT \n",
        "    salespersonid, salesorderid, a.currencyrateid, a.tocurrencycode\n",
        "FROM \n",
        "    salesorderheader\n",
        "LEFT JOIN\n",
        "    a ON a.currencyrateid = salesorderheader.currencyrateid\n",
        "WHERE\n",
        "    orderdate >= '2014-01-01' AND salespersonid IS NOT NULL AND salespersonid <> \"\"\n",
        "ORDER BY\n",
        "    salespersonid\n",
        "LIMIT 10"
      ]
    },
    {
      "cell_type": "markdown",
      "metadata": {
        "deletable": false,
        "editable": false,
        "nbgrader": {
          "cell_type": "markdown",
          "checksum": "59487767332d5d27135f1ca99bda9a94",
          "grade": false,
          "grade_id": "cell-3ed9418c8261b031",
          "locked": true,
          "schema_version": 3,
          "solution": false,
          "task": false
        },
        "id": "WmVVZrzRpilc"
      },
      "source": [
        "As expected, we can see that different salespeople have sales in different currencies. \n",
        "\n",
        "**Note**: The `None` in the above example takes the place of `NULL` values, which contextually means that the sale was in USD. "
      ]
    },
    {
      "cell_type": "markdown",
      "metadata": {
        "deletable": false,
        "editable": false,
        "nbgrader": {
          "cell_type": "markdown",
          "checksum": "97ea2fb9da8a24294642a97cabfad5e6",
          "grade": false,
          "grade_id": "cell-f1f9352209f56cb1",
          "locked": true,
          "schema_version": 3,
          "solution": false,
          "task": false
        },
        "id": "2lPQh3jMpilc"
      },
      "source": [
        "#### 8.2 (2 points)\n",
        "\n",
        "The `None` in the above query can be confusing to someone who doesn't understand the database. In this case, it's best to replace them with useful information. Redo the previous exercise with the following changes:\n",
        "* Leave out the `currencyrateid` column \n",
        "* Replace `None` with 'USD' in the `tocurrencycode` column\n",
        "\n",
        "**Hint**: One way of completing this task is to use the `CASE` expression, which can be incorporated like this:\n",
        "\n",
        "~~~sql\n",
        "SELECT column1, column2, \n",
        "CASE\n",
        "    WHEN condition1 THEN result1\n",
        "    ELSE result2\n",
        "END AS column3\n",
        "FROM Table\n",
        "~~~\n",
        "\n",
        "The above would result in a table with the following columns\n",
        "\n",
        "|column1   |column2   |column3   |\n",
        "|-:  |-:   |-:   |\n",
        "|...  |... |... |\n",
        "\n",
        "In the `tocurrencycode` column, the `CASE` would \n",
        "* replace `NULL` values with 'USD'\n",
        "* leave other values as they are  "
      ]
    },
    {
      "cell_type": "code",
      "execution_count": null,
      "metadata": {
        "deletable": false,
        "nbgrader": {
          "cell_type": "code",
          "checksum": "7e91f1dc2d87e1d7f611389b520ee44c",
          "grade": false,
          "grade_id": "cell-ba597bcf37dd80cd",
          "locked": false,
          "schema_version": 3,
          "solution": true,
          "task": false
        },
        "id": "AzlAuDz5pild"
      },
      "outputs": [],
      "source": [
        "salesperson_currency_code=\"\"\"\n",
        "WITH a AS(\n",
        "    SELECT \n",
        "        currencyrateid, tocurrencycode\n",
        "    FROM \n",
        "        currencyrate\n",
        ")\n",
        "SELECT \n",
        "    salespersonid, salesorderid,\n",
        "CASE WHEN \n",
        "    (tocurrencycode IS NULL) THEN 'USD'\n",
        "ELSE\n",
        "    tocurrencycode\n",
        "END AS\n",
        "    tocurrencycode\n",
        "FROM \n",
        "    salesorderheader\n",
        "LEFT JOIN\n",
        "    a ON a.currencyrateid = salesorderheader.currencyrateid\n",
        "WHERE\n",
        "    orderdate >= '2014-01-01' AND salespersonid IS NOT NULL AND salespersonid <> \"\"\n",
        "ORDER BY\n",
        "    salespersonid\n",
        "LIMIT 10\n",
        "\"\"\"\n"
      ]
    },
    {
      "cell_type": "code",
      "execution_count": null,
      "metadata": {
        "id": "5p_wHcf3pild",
        "outputId": "a7c326f2-76b2-4fbe-f92a-247eb2877218"
      },
      "outputs": [
        {
          "name": "stdout",
          "output_type": "stream",
          "text": [
            " * sqlite:///AdventureWorks.db\n",
            "Done.\n"
          ]
        },
        {
          "data": {
            "text/html": [
              "<table>\n",
              "    <tr>\n",
              "        <th>salespersonid</th>\n",
              "        <th>salesorderid</th>\n",
              "        <th>tocurrencycode</th>\n",
              "    </tr>\n",
              "    <tr>\n",
              "        <td>274</td>\n",
              "        <td>65294</td>\n",
              "        <td>USD</td>\n",
              "    </tr>\n",
              "    <tr>\n",
              "        <td>274</td>\n",
              "        <td>65298</td>\n",
              "        <td>USD</td>\n",
              "    </tr>\n",
              "    <tr>\n",
              "        <td>274</td>\n",
              "        <td>67277</td>\n",
              "        <td>USD</td>\n",
              "    </tr>\n",
              "    <tr>\n",
              "        <td>274</td>\n",
              "        <td>67286</td>\n",
              "        <td>CAD</td>\n",
              "    </tr>\n",
              "    <tr>\n",
              "        <td>274</td>\n",
              "        <td>69528</td>\n",
              "        <td>USD</td>\n",
              "    </tr>\n",
              "    <tr>\n",
              "        <td>274</td>\n",
              "        <td>69545</td>\n",
              "        <td>USD</td>\n",
              "    </tr>\n",
              "    <tr>\n",
              "        <td>274</td>\n",
              "        <td>71779</td>\n",
              "        <td>USD</td>\n",
              "    </tr>\n",
              "    <tr>\n",
              "        <td>274</td>\n",
              "        <td>71919</td>\n",
              "        <td>USD</td>\n",
              "    </tr>\n",
              "    <tr>\n",
              "        <td>275</td>\n",
              "        <td>65205</td>\n",
              "        <td>USD</td>\n",
              "    </tr>\n",
              "    <tr>\n",
              "        <td>275</td>\n",
              "        <td>65215</td>\n",
              "        <td>USD</td>\n",
              "    </tr>\n",
              "</table>"
            ],
            "text/plain": [
              "[(274, 65294, 'USD'),\n",
              " (274, 65298, 'USD'),\n",
              " (274, 67277, 'USD'),\n",
              " (274, 67286, 'CAD'),\n",
              " (274, 69528, 'USD'),\n",
              " (274, 69545, 'USD'),\n",
              " (274, 71779, 'USD'),\n",
              " (274, 71919, 'USD'),\n",
              " (275, 65205, 'USD'),\n",
              " (275, 65215, 'USD')]"
            ]
          },
          "execution_count": 39,
          "metadata": {},
          "output_type": "execute_result"
        }
      ],
      "source": [
        "%%sql\n",
        "\n",
        "WITH a AS(\n",
        "    SELECT \n",
        "        currencyrateid, tocurrencycode\n",
        "    FROM \n",
        "        currencyrate\n",
        ")\n",
        "SELECT \n",
        "    salespersonid, salesorderid,\n",
        "CASE WHEN \n",
        "    (tocurrencycode IS NULL) THEN 'USD'\n",
        "ELSE\n",
        "    tocurrencycode\n",
        "END AS\n",
        "    tocurrencycode\n",
        "FROM \n",
        "    salesorderheader\n",
        "LEFT JOIN\n",
        "    a ON a.currencyrateid = salesorderheader.currencyrateid\n",
        "WHERE\n",
        "    orderdate >= '2014-01-01' AND salespersonid IS NOT NULL AND salespersonid <> \"\"\n",
        "ORDER BY\n",
        "    salespersonid\n",
        "LIMIT 10"
      ]
    },
    {
      "cell_type": "markdown",
      "metadata": {
        "deletable": false,
        "editable": false,
        "nbgrader": {
          "cell_type": "markdown",
          "checksum": "f84e56f241aa724210775eda8fc67bb7",
          "grade": false,
          "grade_id": "cell-263a8de6ce76022b",
          "locked": true,
          "schema_version": 3,
          "solution": false,
          "task": false
        },
        "id": "D01WXvbOpild"
      },
      "source": [
        "### Exercise 9 (3 points)\n",
        "\n",
        "Now that we have the currency codes associated with each salesperson ID, redo Exercise 7 adding in the `tocurrencycode`. Order the results by currency (ascending) and total sales (descending) to make it easier to see who the best salespeople are for each currency.\n",
        "\n",
        "**Hint:** Start with Exercise 7 and integrate the currency piece using the `CASE` expression and `LEFT JOIN` from Exercise 8.2 (removing the `LIMIT` clause)."
      ]
    },
    {
      "cell_type": "code",
      "execution_count": null,
      "metadata": {
        "deletable": false,
        "nbgrader": {
          "cell_type": "code",
          "checksum": "70c09e8c6e174009700be7d627283459",
          "grade": false,
          "grade_id": "cell-bc92e7af01233ff3",
          "locked": false,
          "schema_version": 3,
          "solution": true,
          "task": false
        },
        "id": "NLvgUgPipild"
      },
      "outputs": [],
      "source": [
        "salesperson_ranking_currency=\"\"\"\n",
        "SELECT\n",
        "   salespersonid, sum(unitprice * (1 - unitpricediscount) * orderqty) AS ordertotalsum, commissionpct,\n",
        "CASE WHEN \n",
        "    (tocurrencycode IS NULL) THEN 'USD'\n",
        "ELSE\n",
        "    tocurrencycode\n",
        "END AS\n",
        "    tocurrencycode\n",
        "FROM\n",
        "    salesperson\n",
        "INNER JOIN\n",
        "    salesorderheader ON salesperson.businessentityid = salesorderheader.salespersonid\n",
        "INNER JOIN\n",
        "    salesorderdetail ON salesorderheader.salesorderid = salesorderdetail.salesorderid\n",
        "LEFT JOIN\n",
        "    currencyrate ON salesorderheader.currencyrateid = currencyrate.currencyrateid\n",
        "WHERE\n",
        "    orderdate >= '2014-01-01' AND salespersonid is not NULL AND salespersonid <> \"\"\n",
        "GROUP BY\n",
        "    salespersonid, tocurrencycode, commissionpct\n",
        "ORDER BY\n",
        "    tocurrencycode, ordertotalsum DESC\n",
        "\"\"\"\n"
      ]
    },
    {
      "cell_type": "code",
      "execution_count": null,
      "metadata": {
        "id": "nr80Pcvcpile",
        "outputId": "d524c703-39df-44cc-b04e-5076cfce6572"
      },
      "outputs": [
        {
          "name": "stdout",
          "output_type": "stream",
          "text": [
            " * sqlite:///AdventureWorks.db\n",
            "Done.\n"
          ]
        },
        {
          "data": {
            "text/html": [
              "<table>\n",
              "    <tr>\n",
              "        <th>salespersonid</th>\n",
              "        <th>ordertotalsum</th>\n",
              "        <th>commissionpct</th>\n",
              "        <th>tocurrencycode</th>\n",
              "    </tr>\n",
              "    <tr>\n",
              "        <td>286</td>\n",
              "        <td>585755.8005279993</td>\n",
              "        <td>0.018</td>\n",
              "        <td>AUD</td>\n",
              "    </tr>\n",
              "    <tr>\n",
              "        <td>285</td>\n",
              "        <td>21267.336</td>\n",
              "        <td>0.0</td>\n",
              "        <td>AUD</td>\n",
              "    </tr>\n",
              "    <tr>\n",
              "        <td>289</td>\n",
              "        <td>1382996.583909995</td>\n",
              "        <td>0.02</td>\n",
              "        <td>CAD</td>\n",
              "    </tr>\n",
              "    <tr>\n",
              "        <td>278</td>\n",
              "        <td>435948.9551659999</td>\n",
              "        <td>0.01</td>\n",
              "        <td>CAD</td>\n",
              "    </tr>\n",
              "    <tr>\n",
              "        <td>274</td>\n",
              "        <td>11802.563999999998</td>\n",
              "        <td>0.0</td>\n",
              "        <td>CAD</td>\n",
              "    </tr>\n",
              "    <tr>\n",
              "        <td>288</td>\n",
              "        <td>581358.3893809991</td>\n",
              "        <td>0.018</td>\n",
              "        <td>EUR</td>\n",
              "    </tr>\n",
              "    <tr>\n",
              "        <td>290</td>\n",
              "        <td>88188.92707200002</td>\n",
              "        <td>0.016</td>\n",
              "        <td>EUR</td>\n",
              "    </tr>\n",
              "    <tr>\n",
              "        <td>287</td>\n",
              "        <td>55965.4538</td>\n",
              "        <td>0.0</td>\n",
              "        <td>EUR</td>\n",
              "    </tr>\n",
              "    <tr>\n",
              "        <td>282</td>\n",
              "        <td>1044810.8276869993</td>\n",
              "        <td>0.015</td>\n",
              "        <td>GBP</td>\n",
              "    </tr>\n",
              "    <tr>\n",
              "        <td>287</td>\n",
              "        <td>672.294</td>\n",
              "        <td>0.0</td>\n",
              "        <td>GBP</td>\n",
              "    </tr>\n",
              "    <tr>\n",
              "        <td>276</td>\n",
              "        <td>1271088.521460999</td>\n",
              "        <td>0.015</td>\n",
              "        <td>USD</td>\n",
              "    </tr>\n",
              "    <tr>\n",
              "        <td>275</td>\n",
              "        <td>1057247.3785719974</td>\n",
              "        <td>0.012</td>\n",
              "        <td>USD</td>\n",
              "    </tr>\n",
              "    <tr>\n",
              "        <td>277</td>\n",
              "        <td>1040093.4069009994</td>\n",
              "        <td>0.015</td>\n",
              "        <td>USD</td>\n",
              "    </tr>\n",
              "    <tr>\n",
              "        <td>279</td>\n",
              "        <td>787204.42884</td>\n",
              "        <td>0.01</td>\n",
              "        <td>USD</td>\n",
              "    </tr>\n",
              "    <tr>\n",
              "        <td>290</td>\n",
              "        <td>779329.6869029999</td>\n",
              "        <td>0.016</td>\n",
              "        <td>USD</td>\n",
              "    </tr>\n",
              "    <tr>\n",
              "        <td>281</td>\n",
              "        <td>777941.6520230003</td>\n",
              "        <td>0.01</td>\n",
              "        <td>USD</td>\n",
              "    </tr>\n",
              "    <tr>\n",
              "        <td>284</td>\n",
              "        <td>600997.1703579996</td>\n",
              "        <td>0.019</td>\n",
              "        <td>USD</td>\n",
              "    </tr>\n",
              "    <tr>\n",
              "        <td>280</td>\n",
              "        <td>504932.04403999995</td>\n",
              "        <td>0.01</td>\n",
              "        <td>USD</td>\n",
              "    </tr>\n",
              "    <tr>\n",
              "        <td>283</td>\n",
              "        <td>490466.318915</td>\n",
              "        <td>0.012</td>\n",
              "        <td>USD</td>\n",
              "    </tr>\n",
              "    <tr>\n",
              "        <td>274</td>\n",
              "        <td>166781.798508</td>\n",
              "        <td>0.0</td>\n",
              "        <td>USD</td>\n",
              "    </tr>\n",
              "    <tr>\n",
              "        <td>288</td>\n",
              "        <td>249.5428</td>\n",
              "        <td>0.018</td>\n",
              "        <td>USD</td>\n",
              "    </tr>\n",
              "</table>"
            ],
            "text/plain": [
              "[(286, 585755.8005279993, 0.018, 'AUD'),\n",
              " (285, 21267.336, 0.0, 'AUD'),\n",
              " (289, 1382996.583909995, 0.02, 'CAD'),\n",
              " (278, 435948.9551659999, 0.01, 'CAD'),\n",
              " (274, 11802.563999999998, 0.0, 'CAD'),\n",
              " (288, 581358.3893809991, 0.018, 'EUR'),\n",
              " (290, 88188.92707200002, 0.016, 'EUR'),\n",
              " (287, 55965.4538, 0.0, 'EUR'),\n",
              " (282, 1044810.8276869993, 0.015, 'GBP'),\n",
              " (287, 672.294, 0.0, 'GBP'),\n",
              " (276, 1271088.521460999, 0.015, 'USD'),\n",
              " (275, 1057247.3785719974, 0.012, 'USD'),\n",
              " (277, 1040093.4069009994, 0.015, 'USD'),\n",
              " (279, 787204.42884, 0.01, 'USD'),\n",
              " (290, 779329.6869029999, 0.016, 'USD'),\n",
              " (281, 777941.6520230003, 0.01, 'USD'),\n",
              " (284, 600997.1703579996, 0.019, 'USD'),\n",
              " (280, 504932.04403999995, 0.01, 'USD'),\n",
              " (283, 490466.318915, 0.012, 'USD'),\n",
              " (274, 166781.798508, 0.0, 'USD'),\n",
              " (288, 249.5428, 0.018, 'USD')]"
            ]
          },
          "execution_count": 61,
          "metadata": {},
          "output_type": "execute_result"
        }
      ],
      "source": [
        "%%sql\n",
        "\n",
        "SELECT\n",
        "   salespersonid, sum(unitprice * (1 - unitpricediscount) * orderqty) AS ordertotalsum, commissionpct,\n",
        "CASE WHEN \n",
        "    (tocurrencycode IS NULL) THEN 'USD'\n",
        "ELSE\n",
        "    tocurrencycode\n",
        "END AS\n",
        "    tocurrencycode\n",
        "FROM\n",
        "    salesperson\n",
        "INNER JOIN\n",
        "    salesorderheader ON salesperson.businessentityid = salesorderheader.salespersonid\n",
        "INNER JOIN\n",
        "    salesorderdetail ON salesorderheader.salesorderid = salesorderdetail.salesorderid\n",
        "LEFT JOIN\n",
        "    currencyrate ON salesorderheader.currencyrateid = currencyrate.currencyrateid\n",
        "WHERE\n",
        "    orderdate >= '2014-01-01' AND salespersonid is not NULL AND salespersonid <> \"\"\n",
        "GROUP BY\n",
        "    salespersonid, tocurrencycode, commissionpct\n",
        "ORDER BY\n",
        "    tocurrencycode, ordertotalsum DESC"
      ]
    },
    {
      "cell_type": "markdown",
      "metadata": {
        "deletable": false,
        "editable": false,
        "nbgrader": {
          "cell_type": "markdown",
          "checksum": "33a7b93cbfb6056920b4f533c21e1174",
          "grade": false,
          "grade_id": "cell-d65bb2f7ec8fc249",
          "locked": true,
          "schema_version": 3,
          "solution": false,
          "task": false
        },
        "id": "_116Et5Ppile"
      },
      "source": [
        "## Testing cells"
      ]
    },
    {
      "cell_type": "code",
      "execution_count": null,
      "metadata": {
        "deletable": false,
        "editable": false,
        "nbgrader": {
          "cell_type": "code",
          "checksum": "cba6736c5b114c1dfd33e6b3c3c82217",
          "grade": false,
          "grade_id": "cell-a68e1ef177019ec7",
          "locked": true,
          "schema_version": 3,
          "solution": false,
          "task": false
        },
        "id": "Hyf-5o8lpile"
      },
      "outputs": [],
      "source": [
        "import sqlalchemy\n",
        "sqlite_engine = sqlalchemy.create_engine(\"sqlite:///AdventureWorks.db\")"
      ]
    },
    {
      "cell_type": "code",
      "execution_count": null,
      "metadata": {
        "deletable": false,
        "editable": false,
        "nbgrader": {
          "cell_type": "code",
          "checksum": "bdf95eb3751a7695b1d13e83036cb8af",
          "grade": true,
          "grade_id": "cell-29e14bdb09e858b0",
          "locked": true,
          "points": 1,
          "schema_version": 3,
          "solution": false,
          "task": false
        },
        "id": "mL4eP8sIpile",
        "outputId": "25bd4a17-b386-441d-aa49-14157666c5c3"
      },
      "outputs": [
        {
          "name": "stdout",
          "output_type": "stream",
          "text": [
            "Exercise 1 looks fine for now. You will get your final grade after we've reviewed your submission.\n"
          ]
        }
      ],
      "source": [
        "# Ex. 1\n",
        "assert \"rating_ranking\" in globals(), \"Ex. 1 - Remember that your variable's name should be `rating_ranking`!\"\n",
        "rating_ranking_result = pd.read_sql(rating_ranking, con=sqlite_engine)\n",
        "assert len(rating_ranking_result) > 0, \"Ex. 1 - Your code is not producing any output! (ie., a table with lenght zero)\"\n",
        "assert set(rating_ranking_result.columns) == {'NAME', 'avgrating', 'num_ratings', 'productid'}, \"Ex. 1 - Your query result doesn't have exactly these columns: 'NAME', 'avgrating', 'num_ratings', 'productid'\"\n",
        "print(\"Exercise 1 looks fine for now. You will get your final grade after we've reviewed your submission.\")"
      ]
    },
    {
      "cell_type": "code",
      "execution_count": null,
      "metadata": {
        "deletable": false,
        "editable": false,
        "nbgrader": {
          "cell_type": "code",
          "checksum": "e994e7d91805d0f45f420d3a2590724e",
          "grade": true,
          "grade_id": "cell-370002132f6f0cd5",
          "locked": true,
          "points": 1,
          "schema_version": 3,
          "solution": false,
          "task": false
        },
        "id": "E5jNq9Klpilf",
        "outputId": "788d5b3d-98e1-4da3-d6bf-111d72b2fe2d"
      },
      "outputs": [
        {
          "name": "stdout",
          "output_type": "stream",
          "text": [
            "Exercise 2.1 looks fine for now. You will get your final grade after we've reviewed your submission.\n"
          ]
        }
      ],
      "source": [
        "# Ex. 2.1\n",
        "assert \"productmodelid_description\" in globals(), \"Ex. 2.1 - Remember that your variable's name should be `productmodelid_description`!\"\n",
        "productmodelid_description_result = pd.read_sql(productmodelid_description, con=sqlite_engine)\n",
        "assert len(productmodelid_description_result) == 127, \"Ex. 2.1 - There are 127 product models in the database, but your query produces a different number. Make sure that you don't have any LIMIT clauses in this exercise!\"\n",
        "assert set(productmodelid_description_result.columns) == {'description', 'productmodelid'}, \"Ex. 2.1 - Your query result doesn't have exactly these columns: 'description', 'productmodelid'\"\n",
        "print(\"Exercise 2.1 looks fine for now. You will get your final grade after we've reviewed your submission.\")"
      ]
    },
    {
      "cell_type": "code",
      "execution_count": null,
      "metadata": {
        "deletable": false,
        "editable": false,
        "nbgrader": {
          "cell_type": "code",
          "checksum": "e1e9ceddc217dcb51077e850d52e8bec",
          "grade": true,
          "grade_id": "cell-e6b2fdfb34b554da",
          "locked": true,
          "points": 2,
          "schema_version": 3,
          "solution": false,
          "task": false
        },
        "id": "NI8D0KqZpilf",
        "outputId": "ad41b437-1c82-4423-978b-62ace1f44727"
      },
      "outputs": [
        {
          "name": "stdout",
          "output_type": "stream",
          "text": [
            "Exercise 2.2 looks fine for now. You will get your final grade after we've reviewed your submission.\n"
          ]
        }
      ],
      "source": [
        "# Ex. 2.2\n",
        "assert \"description_totalorders\" in globals(), \"Ex. 2.2 - Remember that your variable's name should be `description_totalorders`!\"\n",
        "description_totalorders_result = pd.read_sql(description_totalorders, con=sqlite_engine)\n",
        "assert len(description_totalorders_result) == 10, \"Ex. 2.2 - Remember to use LIMIT 10 in your query! This is a top 10!\"\n",
        "assert set(description_totalorders_result.columns) == {'NAME', 'description', 'productmodelid', 'total_orders'}, \"Ex. 2.2 - Your query result doesn't have exactly these columns: 'NAME', 'description', 'productmodelid', 'total_orders'\"\n",
        "print(\"Exercise 2.2 looks fine for now. You will get your final grade after we've reviewed your submission.\")"
      ]
    },
    {
      "cell_type": "code",
      "execution_count": null,
      "metadata": {
        "deletable": false,
        "editable": false,
        "nbgrader": {
          "cell_type": "code",
          "checksum": "c289e17abbba8cda24de7e156a7b5877",
          "grade": true,
          "grade_id": "cell-e30d0d11146882d3",
          "locked": true,
          "points": 1,
          "schema_version": 3,
          "solution": false,
          "task": false
        },
        "id": "RAlZHgIUpilf",
        "outputId": "662e545e-f3ff-4599-e90c-8409c9b841bd"
      },
      "outputs": [
        {
          "name": "stdout",
          "output_type": "stream",
          "text": [
            "Exercise 3.1 looks fine for now. You will get your final grade after we've reviewed your submission.\n"
          ]
        }
      ],
      "source": [
        "# Ex. 3.1\n",
        "assert \"quantities_ordered\" in globals(), \"Ex. 3.1 - Remember that your variable's name should be `quantities_ordered`!\"\n",
        "quantities_ordered_result = pd.read_sql(quantities_ordered, con=sqlite_engine)\n",
        "assert len(quantities_ordered_result) == 266, \"Ex. 2 - There are 266 products in the database that have associated quantities, but your query produces a different number. Make sure that you don't have any LIMIT clauses in this exercise and don't filter by culture!\"\n",
        "assert set(quantities_ordered_result.columns) == {'productid', 'quantity'}, \"Ex. 3.1 - Your query result doesn't have exactly these columns: 'productid', 'quantity'\"\n",
        "print(\"Exercise 3.1 looks fine for now. You will get your final grade after we've reviewed your submission.\")"
      ]
    },
    {
      "cell_type": "code",
      "execution_count": null,
      "metadata": {
        "deletable": false,
        "editable": false,
        "nbgrader": {
          "cell_type": "code",
          "checksum": "b998de9b147f4d751895a649d7bb8f98",
          "grade": true,
          "grade_id": "cell-14e69055e8ccbb0e",
          "locked": true,
          "points": 1,
          "schema_version": 3,
          "solution": false,
          "task": false
        },
        "id": "mZNetZZBpilf",
        "outputId": "c50f9625-10dd-4c46-cab4-7c553b43dbc1"
      },
      "outputs": [
        {
          "name": "stdout",
          "output_type": "stream",
          "text": [
            "Exercise 3.2 looks fine for now. You will get your final grade after we've reviewed your submission.\n"
          ]
        }
      ],
      "source": [
        "# Ex. 3.2\n",
        "assert \"products_prices\" in globals(), \"Ex. 3.2 - Remember that your variable's name should be `products_prices`!\"\n",
        "products_prices_result = pd.read_sql(products_prices, con=sqlite_engine)\n",
        "assert len(products_prices_result) == 295, \"Ex. 3.2 - There are 295 products in the database that have prices, but your query produces a different number. Make sure that you don't have any LIMIT clauses in this exercise!\"\n",
        "assert set(products_prices_result.columns) == {'category', 'listprice', 'productid', 'subcategory'}, \"Ex. 3.2 - Your query result doesn't have exactly these columns: 'category', 'listprice', 'productid', 'subcategory'\"\n",
        "print(\"Exercise 3.2 looks fine for now. You will get your final grade after we've reviewed your submission.\")"
      ]
    },
    {
      "cell_type": "code",
      "execution_count": null,
      "metadata": {
        "deletable": false,
        "editable": false,
        "nbgrader": {
          "cell_type": "code",
          "checksum": "2206f43cb2a97b6e90d0c2f8247f42f5",
          "grade": true,
          "grade_id": "cell-8ce8909f18760be3",
          "locked": true,
          "points": 3,
          "schema_version": 3,
          "solution": false,
          "task": false
        },
        "id": "DkTyrnTCpilg",
        "outputId": "2de0036e-039a-4a32-d6a7-6c04c9682d72"
      },
      "outputs": [
        {
          "name": "stdout",
          "output_type": "stream",
          "text": [
            "Exercise 3.3 looks fine for now. You will get your final grade after we've reviewed your submission.\n"
          ]
        }
      ],
      "source": [
        "# Ex. 3.3\n",
        "assert \"prices_quantities\" in globals(), \"Ex. 3.3 - Remember that your variable's name should be `prices_quantities`!\"\n",
        "prices_quantities_result = pd.read_sql(prices_quantities, con=sqlite_engine)\n",
        "assert len(prices_quantities_result) == 35, \"Ex. 3.3 - There are 35 subcategories in the database, but your query produces a different number. Make sure that you don't have any LIMIT clauses in this exercise!\"\n",
        "assert set(prices_quantities_result.columns) == {'average_price_in_subcategory', 'category', 'subcategory', 'total_items_sold_in_subcategory'}, \"Ex. 3.3 - Your query result doesn't have exactly these columns: 'average_price_in_subcategory', 'category', 'subcategory', 'total_items_sold_in_subcategory'\"\n",
        "print(\"Exercise 3.3 looks fine for now. You will get your final grade after we've reviewed your submission.\")"
      ]
    },
    {
      "cell_type": "code",
      "execution_count": null,
      "metadata": {
        "deletable": false,
        "editable": false,
        "nbgrader": {
          "cell_type": "code",
          "checksum": "f413b6f85300a5de8b291fd09bdf5102",
          "grade": true,
          "grade_id": "cell-c8897684329e63da",
          "locked": true,
          "points": 1,
          "schema_version": 3,
          "solution": false,
          "task": false
        },
        "id": "r1P2baTIpilg",
        "outputId": "a2c80715-5478-4f09-e776-d6889e6537dc"
      },
      "outputs": [
        {
          "name": "stdout",
          "output_type": "stream",
          "text": [
            "Exercise 4 looks fine for now. You will get your final grade after we've reviewed your submission.\n"
          ]
        }
      ],
      "source": [
        "# Ex. 4\n",
        "assert \"salesperson_sales\" in globals(), \"Ex. 4 - Remember that your variable's name should be `salesperson_sales`!\"\n",
        "salesperson_sales_result = pd.read_sql(salesperson_sales, con=sqlite_engine)\n",
        "assert len(salesperson_sales_result) == 5, \"Ex. 4 - This is a top 5. Remember to use LIMIT!\"\n",
        "assert set(salesperson_sales_result.columns) == {'businessentityid', 'salesytd'}, \"Ex. 4 - Your query result doesn't have exactly these columns: 'businessentityid', 'salesytd'\"\n",
        "print(\"Exercise 4 looks fine for now. You will get your final grade after we've reviewed your submission.\")"
      ]
    },
    {
      "cell_type": "code",
      "execution_count": null,
      "metadata": {
        "deletable": false,
        "editable": false,
        "nbgrader": {
          "cell_type": "code",
          "checksum": "48a21b6b128737e2dfaa8bf84e36f696",
          "grade": true,
          "grade_id": "cell-503bf8ba7d420ac9",
          "locked": true,
          "points": 2,
          "schema_version": 3,
          "solution": false,
          "task": false
        },
        "id": "vmVIjJolpilg",
        "outputId": "6a688a93-4dd9-4003-9bf4-b6b7a5273f43"
      },
      "outputs": [
        {
          "name": "stdout",
          "output_type": "stream",
          "text": [
            "Exercise 5 looks fine for now. You will get your final grade after we've reviewed your submission.\n"
          ]
        }
      ],
      "source": [
        "# Ex. 5\n",
        "assert \"salesperson_totalsales\" in globals(), \"Ex. 5 - Remember that your variable's name should be `salesperson_totalsales`!\"\n",
        "salesperson_totalsales_result = pd.read_sql(salesperson_totalsales, con=sqlite_engine)\n",
        "assert len(salesperson_totalsales_result) == 5, \"Ex. 5 - This is a top 5. Remember to use LIMIT!\"\n",
        "assert set(salesperson_totalsales_result.columns) == {'salespersonid', 'totalsales'}, \"Ex. 5 - Your query result doesn't have exactly these columns: 'salespersonid', 'totalsales'\"\n",
        "print(\"Exercise 5 looks fine for now. You will get your final grade after we've reviewed your submission.\")"
      ]
    },
    {
      "cell_type": "code",
      "execution_count": null,
      "metadata": {
        "deletable": false,
        "editable": false,
        "nbgrader": {
          "cell_type": "code",
          "checksum": "a2f66c1e3f4d21d6dfda6c2a8b9d6b04",
          "grade": true,
          "grade_id": "cell-f1d677e5d64d1727",
          "locked": true,
          "points": 1,
          "schema_version": 3,
          "solution": false,
          "task": false
        },
        "id": "o2wCa6l8pilh",
        "outputId": "40c3023f-4d41-42a3-a635-cb1833b5e033"
      },
      "outputs": [
        {
          "name": "stdout",
          "output_type": "stream",
          "text": [
            "Exercise 6.1 looks fine for now. You will get your final grade after we've reviewed your submission.\n"
          ]
        }
      ],
      "source": [
        "# Ex. 6.1\n",
        "assert \"order_ordertotal\" in globals(), \"Ex. 6.1 - Remember that your variable's name should be `order_ordertotal`!\"\n",
        "order_ordertotal_result = pd.read_sql(order_ordertotal, con=sqlite_engine)\n",
        "assert len(order_ordertotal_result) == 31465, \"Ex. 6.1 - There are more than 31,000 orders in the database. Remember to NOT use LIMIT here!\"\n",
        "assert set(order_ordertotal_result.columns) == {'ordertotal', 'salesorderid'}, \"Ex. 6.1 - Your query result doesn't have exactly these columns: 'ordertotal', 'salesorderid'\"\n",
        "print(\"Exercise 6.1 looks fine for now. You will get your final grade after we've reviewed your submission.\")"
      ]
    },
    {
      "cell_type": "code",
      "execution_count": null,
      "metadata": {
        "deletable": false,
        "editable": false,
        "nbgrader": {
          "cell_type": "code",
          "checksum": "ae832b2a241e4aa5fb94243fc768f6f4",
          "grade": true,
          "grade_id": "cell-3a94c2af688b0a91",
          "locked": true,
          "points": 2,
          "schema_version": 3,
          "solution": false,
          "task": false
        },
        "id": "gEhnh8Vzpili",
        "outputId": "03975f34-6359-4a3e-cb78-a8b0e7fb7c8f"
      },
      "outputs": [
        {
          "name": "stdout",
          "output_type": "stream",
          "text": [
            "Exercise 6.2 looks fine for now. You will get your final grade after we've reviewed your submission.\n"
          ]
        }
      ],
      "source": [
        "# Ex. 6.2\n",
        "assert \"salesperson_ordertotal\" in globals(), \"Ex. 6.2 - Remember that your variable's name should be `salesperson_ordertotal`!\"\n",
        "salesperson_ordertotal_result = pd.read_sql(salesperson_ordertotal, con=sqlite_engine)\n",
        "assert len(salesperson_ordertotal_result) == 5, \"Ex. 6.2 - There are too many or too few rows in your result. Remember to use LIMIT here!\"\n",
        "assert set(salesperson_ordertotal_result.columns) == {'ordertotalsum', 'salespersonid'}, \"Ex. 6.2 - Your query result doesn't have exactly these columns: 'ordertotalsum', 'salespersonid'\"\n",
        "print(\"Exercise 6.2 looks fine for now. You will get your final grade after we've reviewed your submission.\")"
      ]
    },
    {
      "cell_type": "code",
      "execution_count": null,
      "metadata": {
        "deletable": false,
        "editable": false,
        "nbgrader": {
          "cell_type": "code",
          "checksum": "49bb553e010443ea1bdc37041038aeba",
          "grade": true,
          "grade_id": "cell-24f2ce69478088c4",
          "locked": true,
          "points": 3,
          "schema_version": 3,
          "solution": false,
          "task": false
        },
        "id": "cPpeAaWBpili",
        "outputId": "cca2402a-0e04-41f2-d603-acd9b8d1e2a9"
      },
      "outputs": [
        {
          "name": "stdout",
          "output_type": "stream",
          "text": [
            "Exercise 7 looks fine for now. You will get your final grade after we've reviewed your submission.\n"
          ]
        }
      ],
      "source": [
        "# Ex. 7\n",
        "assert \"salesperson_ordertotal_commission\" in globals(), \"Ex. 7 - Remember that your variable's name should be `salesperson_ordertotal_commission`!\"\n",
        "salesperson_ordertotal_commission_result = pd.read_sql(salesperson_ordertotal_commission, con=sqlite_engine)\n",
        "assert len(salesperson_ordertotal_commission_result) == 17, \"Ex. 7 - There are too many or too few rows in your result. Remember to NOT use LIMIT here!\"\n",
        "assert set(salesperson_ordertotal_commission_result.columns) == {'commissionpct', 'ordertotalsum', 'salespersonid'}, \"Ex. 7 - Your query result doesn't have exactly these columns: 'commissionpct', 'ordertotalsum', 'salespersonid'\"\n",
        "print(\"Exercise 7 looks fine for now. You will get your final grade after we've reviewed your submission.\")"
      ]
    },
    {
      "cell_type": "code",
      "execution_count": null,
      "metadata": {
        "deletable": false,
        "editable": false,
        "nbgrader": {
          "cell_type": "code",
          "checksum": "f0efe56f5d5d2f2034f19903434c6779",
          "grade": true,
          "grade_id": "cell-83fb135746864918",
          "locked": true,
          "points": 1,
          "schema_version": 3,
          "solution": false,
          "task": false
        },
        "id": "z8_d0Burpilj",
        "outputId": "a788b942-f5dd-49c4-d772-0b4bd524eeaf"
      },
      "outputs": [
        {
          "name": "stdout",
          "output_type": "stream",
          "text": [
            "Exercise 8.1 looks fine for now. You will get your final grade after we've reviewed your submission.\n"
          ]
        }
      ],
      "source": [
        "# Ex. 8.1\n",
        "assert \"salesperson_currency_id\" in globals(), \"Ex. 8.1 - Remember that your variable's name should be `salesperson_currency_id`!\"\n",
        "salesperson_currency_result = pd.read_sql(salesperson_currency_id, con=sqlite_engine)\n",
        "assert len(salesperson_currency_result) == 10, \"Ex. 8.1 - There are too many or too few rows in your result. Remember to use LIMIT here!\"\n",
        "assert set(salesperson_currency_result.columns) == {'salespersonid', 'salesorderid', 'currencyrateid','tocurrencycode'}, \"Ex. 8.1 - Your query result doesn't have exactly these columns: 'salespersonid', 'salesorderid', 'currencyrateid','tocurrencycode'\"\n",
        "print(\"Exercise 8.1 looks fine for now. You will get your final grade after we've reviewed your submission.\")"
      ]
    },
    {
      "cell_type": "code",
      "execution_count": null,
      "metadata": {
        "deletable": false,
        "editable": false,
        "nbgrader": {
          "cell_type": "code",
          "checksum": "0cfaa2a9f39fb32a925bf7610848457a",
          "grade": true,
          "grade_id": "cell-4e52c4425757ddad",
          "locked": true,
          "points": 2,
          "schema_version": 3,
          "solution": false,
          "task": false
        },
        "id": "OoUCapeqpilj",
        "outputId": "ff9ae380-8d66-4b59-a44c-0e88f85a9db6"
      },
      "outputs": [
        {
          "name": "stdout",
          "output_type": "stream",
          "text": [
            "Exercise 8.2 looks fine for now. You will get your final grade after we've reviewed your submission.\n"
          ]
        }
      ],
      "source": [
        "# Ex. 8.2\n",
        "assert \"salesperson_currency_code\" in globals(), \"Ex. 8.2 - Remember that your variable's name should be `salesperson_currency_code`!\"\n",
        "salesperson_currency_result2 = pd.read_sql(salesperson_currency_code, con=sqlite_engine)\n",
        "assert len(salesperson_currency_result2) == 10, \"Ex. 8.2 - There are too many or too few rows in your result. Remember to use LIMIT here!\"\n",
        "assert set(salesperson_currency_result2.columns) == {'salespersonid', 'salesorderid','tocurrencycode'}, \"Ex. 8.2 - Your query result doesn't have exactly these columns: 'salespersonid', 'salesorderid', 'currencyrateid','tocurrencycode'\"\n",
        "print(\"Exercise 8.2 looks fine for now. You will get your final grade after we've reviewed your submission.\")"
      ]
    },
    {
      "cell_type": "code",
      "execution_count": null,
      "metadata": {
        "deletable": false,
        "editable": false,
        "nbgrader": {
          "cell_type": "code",
          "checksum": "2f2928053fa9274b9242b2a3e70dbbc7",
          "grade": true,
          "grade_id": "cell-c5b13f88eb54b0fd",
          "locked": true,
          "points": 3,
          "schema_version": 3,
          "solution": false,
          "task": false
        },
        "id": "V1qL9vS1pilj",
        "outputId": "26f2ba2e-ef01-4d68-9ea3-748644789e29"
      },
      "outputs": [
        {
          "name": "stdout",
          "output_type": "stream",
          "text": [
            "Exercise 9 looks fine for now. You will get your final grade after we've reviewed your submission.\n"
          ]
        }
      ],
      "source": [
        "# Ex. 9\n",
        "assert \"salesperson_ranking_currency\" in globals(), \"Ex. 9 - Remember that your variable's name should be `salesperson_ranking_currency`!\"\n",
        "salesperson_ranking_currency_result = pd.read_sql(salesperson_ranking_currency, con=sqlite_engine)\n",
        "assert len(salesperson_ranking_currency_result) == 21, \"Ex. 9 - There are too many or too few rows in your result. Remember to NOT use LIMIT here!\"\n",
        "assert set(salesperson_ranking_currency_result.columns) == {'salespersonid', 'tocurrencycode', 'ordertotalsum', 'commissionpct'}, \"Ex. 9 - Your query result doesn't have exactly these columns: 'salespersonid', 'tocurrencycode', 'ordertotalsum', 'commissionpct'\"\n",
        "print(\"Exercise 9 looks fine for now. You will get your final grade after we've reviewed your submission.\")"
      ]
    },
    {
      "cell_type": "markdown",
      "metadata": {
        "id": "znsaFdZjpilk"
      },
      "source": [
        "## Attribution\n",
        "\n",
        "\"AdventureWorks database\", Nov 7, 2017, Microsoft Corporation, [MIT License](https://docs.microsoft.com/en-us/sql/samples/sql-samples-where-are?view=sql-server-ver15), https://github.com/microsoft/sql-server-samples/tree/master/samples/databases/adventure-works"
      ]
    }
  ],
  "metadata": {
    "c1_recart": "7.44.0-57c20131aabc1dc2a8c675852d80a7da",
    "kernelspec": {
      "display_name": "Python 3",
      "language": "python",
      "name": "python3"
    },
    "language_info": {
      "codemirror_mode": {
        "name": "ipython",
        "version": 3
      },
      "file_extension": ".py",
      "mimetype": "text/x-python",
      "name": "python",
      "nbconvert_exporter": "python",
      "pygments_lexer": "ipython3",
      "version": "3.8.8"
    },
    "colab": {
      "provenance": []
    }
  },
  "nbformat": 4,
  "nbformat_minor": 0
}